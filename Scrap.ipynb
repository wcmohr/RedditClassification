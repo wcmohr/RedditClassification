{
 "cells": [
  {
   "cell_type": "code",
   "execution_count": null,
   "id": "be59c0f9-510b-4574-ad8f-e365cb3a6221",
   "metadata": {},
   "outputs": [],
   "source": []
  },
  {
   "cell_type": "code",
   "execution_count": null,
   "id": "2d9d50d7-6d03-4632-b911-b5576ef8c6fb",
   "metadata": {},
   "outputs": [],
   "source": []
  },
  {
   "cell_type": "code",
   "execution_count": 8,
   "id": "4571dc47-5284-4d33-8ad1-8ff24e158d77",
   "metadata": {},
   "outputs": [],
   "source": [
    "science_url = 'https://api.pushshift.io/reddit/search/submission?subreddit=scien\\\n",
    "ce&metadata=true&size=0'"
   ]
  },
  {
   "cell_type": "code",
   "execution_count": 9,
   "id": "d5003b0a-0fb3-455e-b8dd-7c8e6f9191bc",
   "metadata": {},
   "outputs": [],
   "source": [
    "tech_url = 'https://api.pushshift.io/reddit/search/submission?subreddit=technolo\\\n",
    "gy&metadata=true&size=0&selftext'"
   ]
  },
  {
   "cell_type": "code",
   "execution_count": 3,
   "id": "4e9c30cb-bd98-4f9f-ab0e-aa58e4120993",
   "metadata": {},
   "outputs": [],
   "source": [
    "from p3_datasets import sample_function"
   ]
  },
  {
   "cell_type": "code",
   "execution_count": 18,
   "id": "7e79e8d3-1795-454d-a9f5-2be397de6355",
   "metadata": {},
   "outputs": [],
   "source": [
    "def get_reddit_submissions(subreddits: list, max_num: int):\n",
    "    base_url = \"https://api.pushshift.io/reddit/search/submission\"\n",
    "    all_posts = []\n",
    "    \n",
    "    for subreddit in subreddits:\n",
    "        params = {\n",
    "            'subreddit': subreddit,\n",
    "            'size': 1000 #doesn't appear to be working\n",
    "        }\n",
    "        \n",
    "        count = 0 #keep track of posts/subreddit\n",
    "        \n",
    "        while count < max_num:\n",
    "            res = requests.get(base_url, params)\n",
    "            \n",
    "            if res.status_code == 200:\n",
    "                posts = pd.DataFrame(res.json()['data'])\n",
    "                count += len(posts)\n",
    "                \n",
    "                all_posts.append(posts)\n",
    "                \n",
    "                if len(posts) == 0: \n",
    "                    break #break loop if request successful but nothing retrieved\n",
    "                    \n",
    "                #get sequential posts from most recent to least    \n",
    "                params['before'] = posts['created_utc'].min()\n",
    "            else:\n",
    "                print(f'status: {res.status_code}')\n",
    "        print(f'scraped from {subreddit}: {count}')\n",
    "    \n",
    "    return pd.concat(all_posts)"
   ]
  },
  {
   "cell_type": "code",
   "execution_count": null,
   "id": "6201b24e-6e6d-4607-ad0c-27599b49f745",
   "metadata": {},
   "outputs": [],
   "source": []
  },
  {
   "cell_type": "code",
   "execution_count": 8,
   "id": "fb03a674-d6ce-486d-818e-383667499775",
   "metadata": {},
   "outputs": [],
   "source": [
    "science_url = 'https://api.pushshift.io/reddit/search/submission?subreddit=scien\\\n",
    "ce&metadata=true&size=0'"
   ]
  },
  {
   "cell_type": "code",
   "execution_count": 9,
   "id": "f8f73b9e-3100-4394-b0e9-3ca18cc3bc4c",
   "metadata": {},
   "outputs": [],
   "source": [
    "tech_url = 'https://api.pushshift.io/reddit/search/submission?subreddit=technolo\\\n",
    "gy&metadata=true&size=0&selftext'"
   ]
  },
  {
   "cell_type": "code",
   "execution_count": 3,
   "id": "9c1381d0-db3f-451e-a642-d7d14e059424",
   "metadata": {},
   "outputs": [],
   "source": [
    "from p3_datasets import sample_function"
   ]
  },
  {
   "cell_type": "code",
   "execution_count": 18,
   "id": "4c80f604-9ba7-49ba-9101-27876717a911",
   "metadata": {},
   "outputs": [],
   "source": [
    "def get_reddit_submissions(subreddits: list, max_num: int):\n",
    "    base_url = \"https://api.pushshift.io/reddit/search/submission\"\n",
    "    all_posts = []\n",
    "    \n",
    "    for subreddit in subreddits:\n",
    "        params = {\n",
    "            'subreddit': subreddit,\n",
    "            'size': 1000 #doesn't appear to be working\n",
    "        }\n",
    "        \n",
    "        count = 0 #keep track of posts/subreddit\n",
    "        \n",
    "        while count < max_num:\n",
    "            res = requests.get(base_url, params)\n",
    "            \n",
    "            if res.status_code == 200:\n",
    "                posts = pd.DataFrame(res.json()['data'])\n",
    "                count += len(posts)\n",
    "                \n",
    "                all_posts.append(posts)\n",
    "                \n",
    "                if len(posts) == 0: \n",
    "                    break #break loop if request successful but nothing retrieved\n",
    "                    \n",
    "                #get sequential posts from most recent to least    \n",
    "                params['before'] = posts['created_utc'].min()\n",
    "            else:\n",
    "                print(f'status: {res.status_code}')\n",
    "        print(f'scraped from {subreddit}: {count}')\n",
    "    \n",
    "    return pd.concat(all_posts)"
   ]
  },
  {
   "cell_type": "code",
   "execution_count": null,
   "id": "60957c1e-3956-44b3-9999-3bcb263b3a62",
   "metadata": {},
   "outputs": [],
   "source": []
  },
  {
   "cell_type": "code",
   "execution_count": 17,
   "id": "f09fb9b4-c083-49ba-af56-6e08377a7659",
   "metadata": {},
   "outputs": [],
   "source": [
    "from sklearn.model_selection import train_test_split()"
   ]
  },
  {
   "cell_type": "code",
   "execution_count": 9,
   "id": "a4fcf4e0-8519-42dc-b6e5-4794450715ad",
   "metadata": {
    "tags": []
   },
   "outputs": [
    {
     "data": {
      "text/plain": [
       "200"
      ]
     },
     "execution_count": 9,
     "metadata": {},
     "output_type": "execute_result"
    }
   ],
   "source": [
    "res = requests.get(tech_url)\n",
    "res.status_code"
   ]
  },
  {
   "cell_type": "code",
   "execution_count": 11,
   "id": "cfb5a891-6ba8-4426-8aa5-3800d44dce78",
   "metadata": {},
   "outputs": [],
   "source": [
    "sci_res = requests.get(science_url)\n",
    "tech_res = requests.get(tech_url)"
   ]
  },
  {
   "cell_type": "markdown",
   "id": "32bb389b-19c6-49f5-a4f3-f71f60e1fa96",
   "metadata": {
    "jupyter": {
     "outputs_hidden": true
    },
    "tags": []
   },
   "source": [
    "###### **Step two: extract the data**"
   ]
  },
  {
   "cell_type": "code",
   "execution_count": 15,
   "id": "e30a510c-e00b-4d73-a8f4-2fa774831492",
   "metadata": {
    "tags": []
   },
   "outputs": [],
   "source": [
    "sci_tr = sci_res.json()['metadata']"
   ]
  },
  {
   "cell_type": "code",
   "execution_count": 19,
   "id": "14c3e622-ed6e-4ccf-ba3a-f71284faa6cc",
   "metadata": {},
   "outputs": [
    {
     "data": {
      "text/plain": [
       "True"
      ]
     },
     "execution_count": 19,
     "metadata": {},
     "output_type": "execute_result"
    }
   ],
   "source": [
    "df = pd.DataFrame(res.json()['data'])\n",
    "df['id'].nunique() == len(df)"
   ]
  },
  {
   "cell_type": "code",
   "execution_count": 21,
   "id": "8deea55e-0a4a-4f6d-8baa-280133897208",
   "metadata": {},
   "outputs": [
    {
     "data": {
      "text/plain": [
       "10"
      ]
     },
     "execution_count": 21,
     "metadata": {},
     "output_type": "execute_result"
    }
   ],
   "source": [
    "len(df)"
   ]
  },
  {
   "cell_type": "code",
   "execution_count": 26,
   "id": "39428bc3-aa32-447d-893d-94c3c7f5aad1",
   "metadata": {},
   "outputs": [
    {
     "data": {
      "text/plain": [
       "1584420"
      ]
     },
     "execution_count": 26,
     "metadata": {},
     "output_type": "execute_result"
    }
   ],
   "source": [
    "tech_tr = tech_response.json()['metadata']['total_results']\n",
    "tech_tr"
   ]
  },
  {
   "cell_type": "code",
   "execution_count": null,
   "id": "50bded0c-da45-401a-afcf-695ddb2782f8",
   "metadata": {},
   "outputs": [],
   "source": [
    "tech_response = requests.get(science_url)\n",
    "response"
   ]
  },
  {
   "cell_type": "markdown",
   "id": "4041a74c-3d55-4d15-b311-aa2160d36804",
   "metadata": {
    "tags": []
   },
   "source": [
    "###### **Step three: let's make it a bit more complex**"
   ]
  },
  {
   "cell_type": "code",
   "execution_count": 43,
   "id": "17ab58cd-3cfc-4fb3-9966-846a93e4084d",
   "metadata": {},
   "outputs": [
    {
     "name": "stdout",
     "output_type": "stream",
     "text": [
      "1000\n"
     ]
    },
    {
     "data": {
      "text/plain": [
       "200"
      ]
     },
     "execution_count": 43,
     "metadata": {},
     "output_type": "execute_result"
    }
   ],
   "source": [
    "base_url = 'https://api.pushshift.io/reddit/search/submission'\n",
    "\n",
    "params = {\n",
    "    'subreddit': 'science',\n",
    "    'size': 1000\n",
    "}\n",
    "\n",
    "res = requests.get(base_url, params)\n",
    "\n",
    "if res.status_code == 200:\n",
    "    posts = pd.DataFrame(res.json()['data'])\n",
    "    print(len(posts))\n",
    "else: \n",
    "    print(f'status:{res.status_code}')\n",
    "res.status_code"
   ]
  },
  {
   "cell_type": "code",
   "execution_count": 30,
   "id": "0c3a6792-de25-4918-9435-fe10580f09a4",
   "metadata": {},
   "outputs": [
    {
     "ename": "NameError",
     "evalue": "name 'posts' is not defined",
     "output_type": "error",
     "traceback": [
      "\u001b[0;31m---------------------------------------------------------------------------\u001b[0m",
      "\u001b[0;31mNameError\u001b[0m                                 Traceback (most recent call last)",
      "\u001b[0;32m/var/folders/jl/p0b83vx55ls1hskdgz1sddkw0000gn/T/ipykernel_23714/2154501927.py\u001b[0m in \u001b[0;36m<module>\u001b[0;34m\u001b[0m\n\u001b[0;32m----> 1\u001b[0;31m \u001b[0mposts\u001b[0m\u001b[0;34m[\u001b[0m\u001b[0;34m'created_utc'\u001b[0m\u001b[0;34m]\u001b[0m\u001b[0;34m\u001b[0m\u001b[0;34m\u001b[0m\u001b[0m\n\u001b[0m",
      "\u001b[0;31mNameError\u001b[0m: name 'posts' is not defined"
     ]
    }
   ],
   "source": [
    "posts['created_utc']"
   ]
  },
  {
   "cell_type": "code",
   "execution_count": 31,
   "id": "8dbaabdc-0758-427f-9b51-8ff3e4c4ee57",
   "metadata": {},
   "outputs": [
    {
     "ename": "NameError",
     "evalue": "name 'posts' is not defined",
     "output_type": "error",
     "traceback": [
      "\u001b[0;31m---------------------------------------------------------------------------\u001b[0m",
      "\u001b[0;31mNameError\u001b[0m                                 Traceback (most recent call last)",
      "\u001b[0;32m/var/folders/jl/p0b83vx55ls1hskdgz1sddkw0000gn/T/ipykernel_23714/2091241075.py\u001b[0m in \u001b[0;36m<module>\u001b[0;34m\u001b[0m\n\u001b[0;32m----> 1\u001b[0;31m \u001b[0mposts\u001b[0m\u001b[0;34m[\u001b[0m\u001b[0;34m'created_utc'\u001b[0m\u001b[0;34m]\u001b[0m\u001b[0;34m.\u001b[0m\u001b[0mmin\u001b[0m\u001b[0;34m(\u001b[0m\u001b[0;34m)\u001b[0m\u001b[0;34m\u001b[0m\u001b[0;34m\u001b[0m\u001b[0m\n\u001b[0m",
      "\u001b[0;31mNameError\u001b[0m: name 'posts' is not defined"
     ]
    }
   ],
   "source": [
    "posts['created_utc'].min()"
   ]
  },
  {
   "cell_type": "markdown",
   "id": "09b70895-99e6-440d-adff-21e5313178a7",
   "metadata": {},
   "source": [
    "Let's make a first loop"
   ]
  },
  {
   "cell_type": "code",
   "execution_count": 53,
   "id": "066a1b2c-fd92-49ca-93cb-15338c9420cc",
   "metadata": {},
   "outputs": [
    {
     "data": {
      "text/html": [
       "<div>\n",
       "<style scoped>\n",
       "    .dataframe tbody tr th:only-of-type {\n",
       "        vertical-align: middle;\n",
       "    }\n",
       "\n",
       "    .dataframe tbody tr th {\n",
       "        vertical-align: top;\n",
       "    }\n",
       "\n",
       "    .dataframe thead th {\n",
       "        text-align: right;\n",
       "    }\n",
       "</style>\n",
       "<table border=\"1\" class=\"dataframe\">\n",
       "  <thead>\n",
       "    <tr style=\"text-align: right;\">\n",
       "      <th></th>\n",
       "    </tr>\n",
       "  </thead>\n",
       "  <tbody>\n",
       "  </tbody>\n",
       "</table>\n",
       "</div>"
      ],
      "text/plain": [
       "Empty DataFrame\n",
       "Columns: []\n",
       "Index: []"
      ]
     },
     "execution_count": 53,
     "metadata": {},
     "output_type": "execute_result"
    }
   ],
   "source": [
    "pd.DataFrame(res.json()['data'])"
   ]
  },
  {
   "cell_type": "code",
   "execution_count": 81,
   "id": "2d0d485f-de70-4771-9880-14cd00c86e92",
   "metadata": {},
   "outputs": [
    {
     "data": {
      "text/plain": [
       "1670888353"
      ]
     },
     "execution_count": 81,
     "metadata": {},
     "output_type": "execute_result"
    }
   ],
   "source": [
    "time_now = round(time.time())\n",
    "time_now"
   ]
  },
  {
   "cell_type": "code",
   "execution_count": 55,
   "id": "c630c3c7-e5cc-4043-88e9-57d54d1feeca",
   "metadata": {
    "collapsed": true,
    "jupyter": {
     "outputs_hidden": true
    },
    "tags": []
   },
   "outputs": [
    {
     "ename": "KeyError",
     "evalue": "'created_utc'",
     "output_type": "error",
     "traceback": [
      "\u001b[0;31m---------------------------------------------------------------------------\u001b[0m",
      "\u001b[0;31mKeyError\u001b[0m                                  Traceback (most recent call last)",
      "\u001b[0;32m~/opt/anaconda3/lib/python3.9/site-packages/pandas/core/indexes/base.py\u001b[0m in \u001b[0;36mget_loc\u001b[0;34m(self, key, method, tolerance)\u001b[0m\n\u001b[1;32m   3360\u001b[0m             \u001b[0;32mtry\u001b[0m\u001b[0;34m:\u001b[0m\u001b[0;34m\u001b[0m\u001b[0;34m\u001b[0m\u001b[0m\n\u001b[0;32m-> 3361\u001b[0;31m                 \u001b[0;32mreturn\u001b[0m \u001b[0mself\u001b[0m\u001b[0;34m.\u001b[0m\u001b[0m_engine\u001b[0m\u001b[0;34m.\u001b[0m\u001b[0mget_loc\u001b[0m\u001b[0;34m(\u001b[0m\u001b[0mcasted_key\u001b[0m\u001b[0;34m)\u001b[0m\u001b[0;34m\u001b[0m\u001b[0;34m\u001b[0m\u001b[0m\n\u001b[0m\u001b[1;32m   3362\u001b[0m             \u001b[0;32mexcept\u001b[0m \u001b[0mKeyError\u001b[0m \u001b[0;32mas\u001b[0m \u001b[0merr\u001b[0m\u001b[0;34m:\u001b[0m\u001b[0;34m\u001b[0m\u001b[0;34m\u001b[0m\u001b[0m\n",
      "\u001b[0;32m~/opt/anaconda3/lib/python3.9/site-packages/pandas/_libs/index.pyx\u001b[0m in \u001b[0;36mpandas._libs.index.IndexEngine.get_loc\u001b[0;34m()\u001b[0m\n",
      "\u001b[0;32m~/opt/anaconda3/lib/python3.9/site-packages/pandas/_libs/index.pyx\u001b[0m in \u001b[0;36mpandas._libs.index.IndexEngine.get_loc\u001b[0;34m()\u001b[0m\n",
      "\u001b[0;32mpandas/_libs/hashtable_class_helper.pxi\u001b[0m in \u001b[0;36mpandas._libs.hashtable.PyObjectHashTable.get_item\u001b[0;34m()\u001b[0m\n",
      "\u001b[0;32mpandas/_libs/hashtable_class_helper.pxi\u001b[0m in \u001b[0;36mpandas._libs.hashtable.PyObjectHashTable.get_item\u001b[0;34m()\u001b[0m\n",
      "\u001b[0;31mKeyError\u001b[0m: 'created_utc'",
      "\nThe above exception was the direct cause of the following exception:\n",
      "\u001b[0;31mKeyError\u001b[0m                                  Traceback (most recent call last)",
      "\u001b[0;32m/var/folders/jl/p0b83vx55ls1hskdgz1sddkw0000gn/T/ipykernel_23714/1224722588.py\u001b[0m in \u001b[0;36m<module>\u001b[0;34m\u001b[0m\n\u001b[1;32m     16\u001b[0m         \u001b[0mall_posts\u001b[0m\u001b[0;34m.\u001b[0m\u001b[0mappend\u001b[0m\u001b[0;34m(\u001b[0m\u001b[0mposts\u001b[0m\u001b[0;34m)\u001b[0m\u001b[0;34m\u001b[0m\u001b[0;34m\u001b[0m\u001b[0m\n\u001b[1;32m     17\u001b[0m \u001b[0;34m\u001b[0m\u001b[0m\n\u001b[0;32m---> 18\u001b[0;31m         \u001b[0mparams\u001b[0m\u001b[0;34m[\u001b[0m\u001b[0;34m'before'\u001b[0m\u001b[0;34m]\u001b[0m \u001b[0;34m=\u001b[0m \u001b[0mposts\u001b[0m\u001b[0;34m[\u001b[0m\u001b[0;34m'created_utc'\u001b[0m\u001b[0;34m]\u001b[0m\u001b[0;34m.\u001b[0m\u001b[0mmin\u001b[0m\u001b[0;34m(\u001b[0m\u001b[0;34m)\u001b[0m\u001b[0;34m\u001b[0m\u001b[0;34m\u001b[0m\u001b[0m\n\u001b[0m\u001b[1;32m     19\u001b[0m         \u001b[0mtime\u001b[0m\u001b[0;34m.\u001b[0m\u001b[0msleep\u001b[0m\u001b[0;34m(\u001b[0m\u001b[0;36m2\u001b[0m\u001b[0;34m)\u001b[0m\u001b[0;34m\u001b[0m\u001b[0;34m\u001b[0m\u001b[0m\n\u001b[1;32m     20\u001b[0m     \u001b[0;32melse\u001b[0m\u001b[0;34m:\u001b[0m\u001b[0;34m\u001b[0m\u001b[0;34m\u001b[0m\u001b[0m\n",
      "\u001b[0;32m~/opt/anaconda3/lib/python3.9/site-packages/pandas/core/frame.py\u001b[0m in \u001b[0;36m__getitem__\u001b[0;34m(self, key)\u001b[0m\n\u001b[1;32m   3456\u001b[0m             \u001b[0;32mif\u001b[0m \u001b[0mself\u001b[0m\u001b[0;34m.\u001b[0m\u001b[0mcolumns\u001b[0m\u001b[0;34m.\u001b[0m\u001b[0mnlevels\u001b[0m \u001b[0;34m>\u001b[0m \u001b[0;36m1\u001b[0m\u001b[0;34m:\u001b[0m\u001b[0;34m\u001b[0m\u001b[0;34m\u001b[0m\u001b[0m\n\u001b[1;32m   3457\u001b[0m                 \u001b[0;32mreturn\u001b[0m \u001b[0mself\u001b[0m\u001b[0;34m.\u001b[0m\u001b[0m_getitem_multilevel\u001b[0m\u001b[0;34m(\u001b[0m\u001b[0mkey\u001b[0m\u001b[0;34m)\u001b[0m\u001b[0;34m\u001b[0m\u001b[0;34m\u001b[0m\u001b[0m\n\u001b[0;32m-> 3458\u001b[0;31m             \u001b[0mindexer\u001b[0m \u001b[0;34m=\u001b[0m \u001b[0mself\u001b[0m\u001b[0;34m.\u001b[0m\u001b[0mcolumns\u001b[0m\u001b[0;34m.\u001b[0m\u001b[0mget_loc\u001b[0m\u001b[0;34m(\u001b[0m\u001b[0mkey\u001b[0m\u001b[0;34m)\u001b[0m\u001b[0;34m\u001b[0m\u001b[0;34m\u001b[0m\u001b[0m\n\u001b[0m\u001b[1;32m   3459\u001b[0m             \u001b[0;32mif\u001b[0m \u001b[0mis_integer\u001b[0m\u001b[0;34m(\u001b[0m\u001b[0mindexer\u001b[0m\u001b[0;34m)\u001b[0m\u001b[0;34m:\u001b[0m\u001b[0;34m\u001b[0m\u001b[0;34m\u001b[0m\u001b[0m\n\u001b[1;32m   3460\u001b[0m                 \u001b[0mindexer\u001b[0m \u001b[0;34m=\u001b[0m \u001b[0;34m[\u001b[0m\u001b[0mindexer\u001b[0m\u001b[0;34m]\u001b[0m\u001b[0;34m\u001b[0m\u001b[0;34m\u001b[0m\u001b[0m\n",
      "\u001b[0;32m~/opt/anaconda3/lib/python3.9/site-packages/pandas/core/indexes/base.py\u001b[0m in \u001b[0;36mget_loc\u001b[0;34m(self, key, method, tolerance)\u001b[0m\n\u001b[1;32m   3361\u001b[0m                 \u001b[0;32mreturn\u001b[0m \u001b[0mself\u001b[0m\u001b[0;34m.\u001b[0m\u001b[0m_engine\u001b[0m\u001b[0;34m.\u001b[0m\u001b[0mget_loc\u001b[0m\u001b[0;34m(\u001b[0m\u001b[0mcasted_key\u001b[0m\u001b[0;34m)\u001b[0m\u001b[0;34m\u001b[0m\u001b[0;34m\u001b[0m\u001b[0m\n\u001b[1;32m   3362\u001b[0m             \u001b[0;32mexcept\u001b[0m \u001b[0mKeyError\u001b[0m \u001b[0;32mas\u001b[0m \u001b[0merr\u001b[0m\u001b[0;34m:\u001b[0m\u001b[0;34m\u001b[0m\u001b[0;34m\u001b[0m\u001b[0m\n\u001b[0;32m-> 3363\u001b[0;31m                 \u001b[0;32mraise\u001b[0m \u001b[0mKeyError\u001b[0m\u001b[0;34m(\u001b[0m\u001b[0mkey\u001b[0m\u001b[0;34m)\u001b[0m \u001b[0;32mfrom\u001b[0m \u001b[0merr\u001b[0m\u001b[0;34m\u001b[0m\u001b[0;34m\u001b[0m\u001b[0m\n\u001b[0m\u001b[1;32m   3364\u001b[0m \u001b[0;34m\u001b[0m\u001b[0m\n\u001b[1;32m   3365\u001b[0m         \u001b[0;32mif\u001b[0m \u001b[0mis_scalar\u001b[0m\u001b[0;34m(\u001b[0m\u001b[0mkey\u001b[0m\u001b[0;34m)\u001b[0m \u001b[0;32mand\u001b[0m \u001b[0misna\u001b[0m\u001b[0;34m(\u001b[0m\u001b[0mkey\u001b[0m\u001b[0;34m)\u001b[0m \u001b[0;32mand\u001b[0m \u001b[0;32mnot\u001b[0m \u001b[0mself\u001b[0m\u001b[0;34m.\u001b[0m\u001b[0mhasnans\u001b[0m\u001b[0;34m:\u001b[0m\u001b[0;34m\u001b[0m\u001b[0;34m\u001b[0m\u001b[0m\n",
      "\u001b[0;31mKeyError\u001b[0m: 'created_utc'"
     ]
    }
   ],
   "source": [
    "base_url = 'https://api.pushshift.io/reddit/search/submission?subreddit=technology&size=1000'\n",
    "\n",
    "# params = {\n",
    "#     'subreddit': 'science',\n",
    "#     'size': 1000,\n",
    "#     'before': round(time_now)\n",
    "# }\n",
    "all_posts = []\n",
    "\n",
    "for _ in range(2):\n",
    "\n",
    "    res = requests.get(base_url, params)\n",
    "\n",
    "    if res.status_code == 200:\n",
    "        posts = pd.DataFrame(res.json()['data'])\n",
    "        all_posts.append(posts)\n",
    "        \n",
    "        params['before'] = posts['created_utc'].min()\n",
    "        time.sleep(2)\n",
    "    else: \n",
    "        print(f'status:{res.status_code}')\n",
    "    res.status_code\n",
    "all_posts = pd.concat(all_posts)"
   ]
  },
  {
   "cell_type": "code",
   "execution_count": 97,
   "id": "e2d93610-7e91-4683-be13-f3a35f134bfe",
   "metadata": {},
   "outputs": [],
   "source": [
    "base_url = 'https://api.pushshift.io/reddit/search/submission?subreddit=technology&size=1000'\n",
    "time_mark = 0\n",
    "# params = {\n",
    "#     'subreddit': 'science',\n",
    "#     'size': 1000,\n",
    "#     'before': round(time_now)\n",
    "# }\n",
    "all_posts = []\n",
    "\n",
    "for _ in range(3):\n",
    "\n",
    "    res = requests.get(f'{base_url}&after={round(time_mark)}')\n",
    "\n",
    "    if res.status_code == 200:\n",
    "        posts = pd.DataFrame(res.json()['data'])\n",
    "        all_posts.append(posts)\n",
    "        \n",
    "        time_mark = posts['created_utc'].max()\n",
    "        # time.sleep(2)\n",
    "    else: \n",
    "        print(f'status:{res.status_code}')\n",
    "    res.status_code\n",
    "all_posts = pd.concat(all_posts)"
   ]
  },
  {
   "cell_type": "code",
   "execution_count": 99,
   "id": "9f4f2cea-780a-4838-96ca-8edcd44d2869",
   "metadata": {},
   "outputs": [
    {
     "data": {
      "text/plain": [
       "1000"
      ]
     },
     "execution_count": 99,
     "metadata": {},
     "output_type": "execute_result"
    }
   ],
   "source": [
    "all_posts['id'].nunique()"
   ]
  },
  {
   "cell_type": "code",
   "execution_count": null,
   "id": "b77f7929-ce80-43be-a06b-0f68d627faf8",
   "metadata": {},
   "outputs": [],
   "source": [
    "all_posts[]"
   ]
  },
  {
   "cell_type": "code",
   "execution_count": null,
   "id": "b0199796-fe1c-44cb-bbbc-73a83007348f",
   "metadata": {},
   "outputs": [],
   "source": [
    "base_url = 'https://api.pushshift.io/reddit/search/submission?subreddit=technology&size=1000'\n",
    "\n",
    "# params = {\n",
    "#     'subreddit': 'science',\n",
    "#     'size': 1000,\n",
    "#     'before': round(time_now)\n",
    "# }\n",
    "all_posts = []\n",
    "\n",
    "for _ in range(3):\n",
    "\n",
    "    res = requests.get(f'{base_url}&{time_now}')\n",
    "\n",
    "    if res.status_code == 200:\n",
    "        posts = pd.DataFrame(res.json()['data'])\n",
    "        all_posts.append(posts)\n",
    "        \n",
    "        params['before'] = posts['created_utc'].min()\n",
    "        time.sleep(2)\n",
    "    else: \n",
    "        print(f'status:{res.status_code}')\n",
    "    res.status_code\n",
    "all_posts = pd.concat(all_posts)"
   ]
  }
 ],
 "metadata": {
  "kernelspec": {
   "display_name": "Python 3 (ipykernel)",
   "language": "python",
   "name": "python3"
  },
  "language_info": {
   "codemirror_mode": {
    "name": "ipython",
    "version": 3
   },
   "file_extension": ".py",
   "mimetype": "text/x-python",
   "name": "python",
   "nbconvert_exporter": "python",
   "pygments_lexer": "ipython3",
   "version": "3.9.7"
  }
 },
 "nbformat": 4,
 "nbformat_minor": 5
}
