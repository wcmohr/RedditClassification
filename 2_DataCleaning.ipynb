{
 "cells": [
  {
   "cell_type": "code",
   "execution_count": 35,
   "id": "72ea56c7-2158-44b4-a906-b10f8b4b1a67",
   "metadata": {},
   "outputs": [],
   "source": [
    "import pandas as pd\n",
    "from sklearn.model_selection import train_test_split\n",
    "from sklearn.feature_extraction.text import CountVectorizer\n"
   ]
  },
  {
   "cell_type": "code",
   "execution_count": 16,
   "id": "cbb39fdd-c4cb-4a78-bf90-0b294b238198",
   "metadata": {},
   "outputs": [
    {
     "name": "stderr",
     "output_type": "stream",
     "text": [
      "/Users/william/opt/anaconda3/lib/python3.9/site-packages/IPython/core/interactiveshell.py:3444: DtypeWarning: Columns (17,21,34,63,68,112) have mixed types.Specify dtype option on import or set low_memory=False.\n",
      "  exec(code_obj, self.user_global_ns, self.user_ns)\n"
     ]
    }
   ],
   "source": [
    "sci_tech_data = pd.read_csv('./sci_tech_1670979259.409489.csv')"
   ]
  },
  {
   "cell_type": "code",
   "execution_count": null,
   "id": "f0421a42-4bd5-44aa-8981-902c3f7ab6c5",
   "metadata": {},
   "outputs": [],
   "source": []
  },
  {
   "cell_type": "code",
   "execution_count": 32,
   "id": "0afe67e9-f4ff-4e02-aff8-0732016ec923",
   "metadata": {},
   "outputs": [],
   "source": [
    "subreddit = sci_tech_data.loc[(sci_tech_data['subreddit'] == 'technology')\n",
    "                              |(sci_tech_data['subreddit'] == 'science'), \n",
    "                              'subreddit']\n",
    "title = sci_tech_data.loc[(sci_tech_data['subreddit'] == 'technology')\n",
    "                              |(sci_tech_data['subreddit'] == 'science'), \n",
    "                              'title']"
   ]
  },
  {
   "cell_type": "code",
   "execution_count": 33,
   "id": "b7fe875d-8593-4494-b030-5c18e56bbe63",
   "metadata": {
    "tags": []
   },
   "outputs": [],
   "source": [
    "X = title\n",
    "y = subreddit\n",
    "\n",
    "X_train, X_test, y_train, y_test = train_test_split(X, y, random_state=1, stratify=y)"
   ]
  },
  {
   "cell_type": "code",
   "execution_count": 34,
   "id": "fbdcf3bd-9459-4f88-a3f7-ea1e7962cecf",
   "metadata": {},
   "outputs": [
    {
     "data": {
      "text/plain": [
       "5449    Open YouTube on your Android phone and do mult...\n",
       "245     Black patients more likely to be advised again...\n",
       "1139    Many people who find it hard to wake up in the...\n",
       "1543    What we want from our relationships can change...\n",
       "4748    Tesla's first electric car will run 805 KM in ...\n",
       "                              ...                        \n",
       "3320                                           free money\n",
       "2948    Java training in hyderabad | Java course in hy...\n",
       "2376          Closed-form continuous-time neural networks\n",
       "7123    Fred Brooks, an American Icon and Great Thinke...\n",
       "1625    Childhood traumas strongly impact both mental ...\n",
       "Name: title, Length: 5358, dtype: object"
      ]
     },
     "execution_count": 34,
     "metadata": {},
     "output_type": "execute_result"
    }
   ],
   "source": [
    "X_train"
   ]
  },
  {
   "cell_type": "code",
   "execution_count": null,
   "id": "166297a0-1183-489b-a461-e28308e350f7",
   "metadata": {},
   "outputs": [],
   "source": []
  },
  {
   "cell_type": "code",
   "execution_count": 23,
   "id": "28f3e753-4a18-46aa-9a01-61b8f41c35b6",
   "metadata": {},
   "outputs": [
    {
     "data": {
      "text/plain": [
       "technology                4859\n",
       "science                   2286\n",
       "u_Any-Technology-9975      156\n",
       "u_Ok-Technology-1912       142\n",
       "u_Candid-Science-7189      135\n",
       "u_MEGA-Technology          132\n",
       "u_Gold-Science-2230        106\n",
       "u_SecureAge-Technology      75\n",
       "u_Away-Technology-4883      63\n",
       "u_AVID-Technology           52\n",
       "u_Content-Technology-7      19\n",
       "u_Bugd-Technology            7\n",
       "u_kretoss-technology         3\n",
       "u_Slow-Technology-9949       3\n",
       "u_Ok-Science-1826            2\n",
       "u_FS-Technology              2\n",
       "u_awesome-technology         2\n",
       "u_Glum-Science-6510          1\n",
       "u_Then-Technology-9558       1\n",
       "u_No-Technology-2687         1\n",
       "u_Jaded-Technology-332       1\n",
       "u_more-technology-00         1\n",
       "u_Dear-Technology-6015       1\n",
       "u_Fearless-Science-103       1\n",
       "u_A-science-enthusiast       1\n",
       "u_Fearless-Science-693       1\n",
       "u_TheSweet-Science           1\n",
       "u_MR-Technology              1\n",
       "u_visimens-technology        1\n",
       "u_Ok-Science-9480            1\n",
       "u_Edu-Technology             1\n",
       "Name: subreddit, dtype: int64"
      ]
     },
     "execution_count": 23,
     "metadata": {},
     "output_type": "execute_result"
    }
   ],
   "source": [
    "sci_tech_data['subreddit'].value_counts()"
   ]
  },
  {
   "cell_type": "code",
   "execution_count": 11,
   "id": "789d018c-2e54-4284-b282-3dd4282410ae",
   "metadata": {},
   "outputs": [
    {
     "data": {
      "text/plain": [
       "0          science\n",
       "1          science\n",
       "2          science\n",
       "3          science\n",
       "4          science\n",
       "           ...    \n",
       "8053    technology\n",
       "8054    technology\n",
       "8055    technology\n",
       "8056    technology\n",
       "8057    technology\n",
       "Name: subreddit, Length: 8058, dtype: object"
      ]
     },
     "execution_count": 11,
     "metadata": {},
     "output_type": "execute_result"
    }
   ],
   "source": []
  },
  {
   "cell_type": "code",
   "execution_count": null,
   "id": "57aa6193-54a3-45e7-bc44-8f099773e3f7",
   "metadata": {},
   "outputs": [],
   "source": [
    "data"
   ]
  },
  {
   "cell_type": "code",
   "execution_count": null,
   "id": "d995a162-26fd-4885-a4ad-c9b917ab020c",
   "metadata": {},
   "outputs": [],
   "source": []
  }
 ],
 "metadata": {
  "kernelspec": {
   "display_name": "Python 3 (ipykernel)",
   "language": "python",
   "name": "python3"
  },
  "language_info": {
   "codemirror_mode": {
    "name": "ipython",
    "version": 3
   },
   "file_extension": ".py",
   "mimetype": "text/x-python",
   "name": "python",
   "nbconvert_exporter": "python",
   "pygments_lexer": "ipython3",
   "version": "3.9.7"
  }
 },
 "nbformat": 4,
 "nbformat_minor": 5
}
