{
 "cells": [
  {
   "cell_type": "markdown",
   "id": "92c5827a-f597-46bd-8f40-94ff010d7e8d",
   "metadata": {},
   "source": [
    "###### **Load Libraries**"
   ]
  },
  {
   "cell_type": "code",
   "execution_count": 27,
   "id": "589d063c-8fee-4e58-9576-41928fc9ca97",
   "metadata": {},
   "outputs": [],
   "source": [
    "import pandas as pd\n",
    "import time\n",
    "import requests\n",
    "import re\n",
    "from sample_function import get_reddit_submissions"
   ]
  },
  {
   "cell_type": "markdown",
   "id": "1fde5e33-133d-4815-95ad-636918e42c85",
   "metadata": {},
   "source": [
    "###### **Import data**"
   ]
  },
  {
   "cell_type": "code",
   "execution_count": 6,
   "id": "19b0a7d1-372a-45b2-aeea-b828d15b5d9f",
   "metadata": {},
   "outputs": [
    {
     "name": "stdout",
     "output_type": "stream",
     "text": [
      "status: 504\n",
      "scraped from science: 3584\n",
      "status: 504\n",
      "status: 504\n",
      "scraped from technology: 7987\n"
     ]
    }
   ],
   "source": [
    "sci_tech_data = get_reddit_submissions(['science', 'technology'],10000)"
   ]
  },
  {
   "cell_type": "markdown",
   "id": "263a71df-0546-4c65-bd5b-b84970209b5d",
   "metadata": {},
   "source": [
    "[timestamp](https://stackoverflow.com/questions/30071886/how-to-get-current-time-in-python-and-break-up-into-year-month-day-hour-minu)"
   ]
  },
  {
   "cell_type": "code",
   "execution_count": 34,
   "id": "9c56e7a2-33ec-4b4e-ab0b-d46aded5f1b7",
   "metadata": {},
   "outputs": [],
   "source": [
    "data_pull_time = re.sub(',',':',time.strftime(\"%Y,%m,%d,%H,%M,%S\"))\n",
    "sci_tech_data.to_csv(f'./scitech_data_scraped/scitech_data_{data_pull_time}-{time.time()}.csv')"
   ]
  }
 ],
 "metadata": {
  "kernelspec": {
   "display_name": "Python 3 (ipykernel)",
   "language": "python",
   "name": "python3"
  },
  "language_info": {
   "codemirror_mode": {
    "name": "ipython",
    "version": 3
   },
   "file_extension": ".py",
   "mimetype": "text/x-python",
   "name": "python",
   "nbconvert_exporter": "python",
   "pygments_lexer": "ipython3",
   "version": "3.9.7"
  }
 },
 "nbformat": 4,
 "nbformat_minor": 5
}
