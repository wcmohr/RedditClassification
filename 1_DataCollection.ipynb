{
 "cells": [
  {
   "cell_type": "markdown",
   "id": "92c5827a-f597-46bd-8f40-94ff010d7e8d",
   "metadata": {},
   "source": [
    "###### **Load Libraries**"
   ]
  },
  {
   "cell_type": "code",
   "execution_count": 2,
   "id": "589d063c-8fee-4e58-9576-41928fc9ca97",
   "metadata": {},
   "outputs": [],
   "source": [
    "import pandas as pd\n",
    "import time\n",
    "import requests"
   ]
  },
  {
   "cell_type": "code",
   "execution_count": 28,
   "id": "19b0a7d1-372a-45b2-aeea-b828d15b5d9f",
   "metadata": {},
   "outputs": [
    {
     "name": "stdout",
     "output_type": "stream",
     "text": [
      "scraped from science: 2535\n",
      "scraped from technology: 5523\n"
     ]
    }
   ],
   "source": [
    "sci_tech_data = get_reddit_submissions(['science', 'technology'],10000)"
   ]
  },
  {
   "cell_type": "code",
   "execution_count": 32,
   "id": "31298c6b-e1e9-4f04-ac5f-9fc62b07ef52",
   "metadata": {},
   "outputs": [
    {
     "data": {
      "text/plain": [
       "<function time.time>"
      ]
     },
     "execution_count": 32,
     "metadata": {},
     "output_type": "execute_result"
    }
   ],
   "source": [
    "time.time"
   ]
  },
  {
   "cell_type": "code",
   "execution_count": 1,
   "id": "3292b248-5f68-4820-aae0-e47d7aa7a5c1",
   "metadata": {
    "tags": []
   },
   "outputs": [
    {
     "ename": "NameError",
     "evalue": "name 'sci_tech_data' is not defined",
     "output_type": "error",
     "traceback": [
      "\u001b[0;31m---------------------------------------------------------------------------\u001b[0m",
      "\u001b[0;31mNameError\u001b[0m                                 Traceback (most recent call last)",
      "\u001b[0;32m/var/folders/jl/p0b83vx55ls1hskdgz1sddkw0000gn/T/ipykernel_15227/1903156473.py\u001b[0m in \u001b[0;36m<module>\u001b[0;34m\u001b[0m\n\u001b[0;32m----> 1\u001b[0;31m \u001b[0msci_tech_data\u001b[0m\u001b[0;34m.\u001b[0m\u001b[0mcolumns\u001b[0m\u001b[0;34m\u001b[0m\u001b[0;34m\u001b[0m\u001b[0m\n\u001b[0m",
      "\u001b[0;31mNameError\u001b[0m: name 'sci_tech_data' is not defined"
     ]
    }
   ],
   "source": [
    "sci_tech_data.columns"
   ]
  },
  {
   "cell_type": "code",
   "execution_count": 33,
   "id": "7c541923-13b8-46f7-8be1-dc195ab36e7a",
   "metadata": {},
   "outputs": [],
   "source": [
    "sci_tech_data.to_csv(f'sci_tech_{time.time()}.csv')"
   ]
  },
  {
   "cell_type": "code",
   "execution_count": 35,
   "id": "332d70aa-f9b9-4494-8662-317c69469faf",
   "metadata": {},
   "outputs": [
    {
     "data": {
      "text/plain": [
       "(8058, 127)"
      ]
     },
     "execution_count": 35,
     "metadata": {},
     "output_type": "execute_result"
    }
   ],
   "source": [
    "sci_tech_data.shape"
   ]
  }
 ],
 "metadata": {
  "kernelspec": {
   "display_name": "Python 3 (ipykernel)",
   "language": "python",
   "name": "python3"
  },
  "language_info": {
   "codemirror_mode": {
    "name": "ipython",
    "version": 3
   },
   "file_extension": ".py",
   "mimetype": "text/x-python",
   "name": "python",
   "nbconvert_exporter": "python",
   "pygments_lexer": "ipython3",
   "version": "3.9.7"
  }
 },
 "nbformat": 4,
 "nbformat_minor": 5
}
