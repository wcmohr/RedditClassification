{
 "cells": [
  {
   "cell_type": "markdown",
   "id": "a17ceb69-cbde-457e-946b-eeadd9285030",
   "metadata": {},
   "source": [
    "#### Problem Statement"
   ]
  },
  {
   "cell_type": "markdown",
   "id": "0dd145a6-2054-44e2-9738-2bdeb79c1b0c",
   "metadata": {},
   "source": [
    "A scientific magazine, RealScience, believes that it's social media presence should offer a haven of truth and meaning that is easily distinguishable from the tabloid-esque style of its technology oriented competitors.\n",
    "\n",
    "RealScience is impressed by the substantial following of r/Science at 29.1 million subscribers, and hopes to grow its social media following to similar numbers.  With proper curation and delivery of content, magazine subscriptions can be expected to increase proportionately, as this is the primary source of the company's publicity.  \n",
    "\n",
    "To assist in the company's efforts I will use reddit data from the subreddits technology and science to determine if they are distinguishable through machine learning models.  These can then be used to identify posts from the technology subreddit that may offer insight into how best to craft a post that can have appeal to potensially receptive audiences within the world of technology enthusiasts while maintaining a scientific flavor.\n"
   ]
  },
  {
   "cell_type": "markdown",
   "id": "00b94ae6-e7d4-4c45-b82c-61610707a0fd",
   "metadata": {},
   "source": [
    "Some angles: what word counts and lengths of posts, title statistics;\n",
    "sentiment analysis; nlp modeling"
   ]
  },
  {
   "cell_type": "markdown",
   "id": "f0fd9ed4-1381-439a-ba2d-a0f9f71b3907",
   "metadata": {
    "tags": []
   },
   "source": [
    "###### Imports"
   ]
  },
  {
   "cell_type": "code",
   "execution_count": 1,
   "id": "72ea56c7-2158-44b4-a906-b10f8b4b1a67",
   "metadata": {},
   "outputs": [],
   "source": [
    "import numpy as np\n",
    "import pandas as pd\n",
    "import glob\n",
    "import os\n",
    "import random\n",
    "\n",
    "from sklearn.preprocessing import StandardScaler\n",
    "\n",
    "from sklearn.model_selection import (train_test_split, cross_val_predict, \n",
    "cross_val_score)\n",
    "\n",
    "from sklearn.feature_extraction.text import CountVectorizer, TfidfVectorizer\n",
    "from sklearn.dummy import DummyClassifier\n",
    "from sklearn.ensemble import RandomForestClassifier\n",
    "import xgboost\n",
    "from sklearn.linear_model import LogisticRegression\n",
    "from sklearn.linear_model import LogisticRegressionCV\n",
    "from sklearn.pipeline import Pipeline\n",
    "from sklearn.model_selection import GridSearchCV\n",
    "from sklearn.model_selection import RandomizedSearchCV\n",
    "\n",
    "#NLP Libs\n",
    "import re\n",
    "import spacy\n",
    "from spacy import displacy\n",
    "from cleantext import clean\n",
    "                                \n",
    "# Lemmatizing Libs\n",
    "import nltk\n",
    "from nltk.stem import WordNetLemmatizer \n",
    "from nltk.corpus import wordnet\n",
    "from nltk.corpus import stopwords\n",
    "\n",
    "# Visualizations\n",
    "from sklearn.metrics import confusion_matrix\n",
    "from sklearn.metrics import ConfusionMatrixDisplay\n",
    "import matplotlib.pyplot as plt\n",
    "import seaborn as sns\n",
    "# Download if necessary: nltk.download('stopwords');"
   ]
  },
  {
   "cell_type": "markdown",
   "id": "378acf65-61ef-482a-ac04-7b80ef01ee36",
   "metadata": {},
   "source": [
    "###### Import, cleaning, traint test split"
   ]
  },
  {
   "cell_type": "code",
   "execution_count": 2,
   "id": "688c439b-a8fb-48b6-b00d-ff5151e6d62a",
   "metadata": {},
   "outputs": [],
   "source": [
    "list_of_files = glob.glob('./scitech_data_scraped/*.csv') # for inclusion of recent data\n",
    "latest_file = max(list_of_files, key=os.path.getctime)"
   ]
  },
  {
   "cell_type": "code",
   "execution_count": 3,
   "id": "cbb39fdd-c4cb-4a78-bf90-0b294b238198",
   "metadata": {
    "tags": []
   },
   "outputs": [
    {
     "name": "stderr",
     "output_type": "stream",
     "text": [
      "/Users/william/opt/anaconda3/lib/python3.9/site-packages/IPython/core/interactiveshell.py:3444: DtypeWarning: Columns (17,21,34,63,68,112) have mixed types.Specify dtype option on import or set low_memory=False.\n",
      "  exec(code_obj, self.user_global_ns, self.user_ns)\n"
     ]
    }
   ],
   "source": [
    "# run for results found in present notebook.\n",
    "sci_tech_data = pd.read_csv('./scitech_data_scraped/scitech_data_2022:12:17:08:31:22-1671294682.879364.csv')"
   ]
  },
  {
   "cell_type": "code",
   "execution_count": 4,
   "id": "ce600eb6-498d-4778-a693-33f8982b78ba",
   "metadata": {},
   "outputs": [],
   "source": [
    "# Drop duplicate rows.\n",
    "sci_tech_data.drop_duplicates(subset = ['selftext','title'], inplace=True)"
   ]
  },
  {
   "cell_type": "code",
   "execution_count": 5,
   "id": "0afe67e9-f4ff-4e02-aff8-0732016ec923",
   "metadata": {
    "tags": []
   },
   "outputs": [],
   "source": [
    "# Select rows with tech or science as the subreddits and save the feature space, \n",
    "# 'title' and the target, 'subreddit' to respective variables.\n",
    "\n",
    "subreddit = sci_tech_data.loc[(sci_tech_data['subreddit'].isin(\n",
    "                                ['technology','science']), 'subreddit')]\n",
    "title = sci_tech_data.loc[(sci_tech_data['subreddit'].isin(\n",
    "                                ['technology','science']),'title')]\n",
    "# Set X and y\n",
    "X = title\n",
    "y = subreddit"
   ]
  },
  {
   "cell_type": "code",
   "execution_count": 6,
   "id": "844a5dd4-2153-4c53-950e-9a2739fbc635",
   "metadata": {
    "tags": []
   },
   "outputs": [],
   "source": [
    "# Split into training and test sets\n",
    "X_train, X_test, y_train, y_test = train_test_split(X, y, random_state=1, \n",
    "                                                    stratify=y)\n",
    "# Re-index to allow for easy splicing\n",
    "(X_train.index, y_train.index, X_test.index, y_test.index) = \\\n",
    "(range(0, X_train.shape[0]),range(0, X_train.shape[0]), \\\n",
    " range(0, X_test.shape[0]),range(0, X_test.shape[0]))"
   ]
  },
  {
   "cell_type": "markdown",
   "id": "c9e5d92e-b6c0-4a93-8394-f0df222958f8",
   "metadata": {},
   "source": [
    "[remove stop words](https://stackoverflow.com/questions/29523254/python-remove-stop-words-from-pandas-dataframe)"
   ]
  },
  {
   "cell_type": "code",
   "execution_count": 7,
   "id": "b604a817-dff0-4876-872c-82092263fc74",
   "metadata": {
    "tags": []
   },
   "outputs": [
    {
     "data": {
      "text/plain": [
       "['i',\n",
       " 'me',\n",
       " 'my',\n",
       " 'myself',\n",
       " 'we',\n",
       " 'our',\n",
       " 'ours',\n",
       " 'ourselves',\n",
       " 'you',\n",
       " \"you're\",\n",
       " \"you've\",\n",
       " \"you'll\",\n",
       " \"you'd\",\n",
       " 'your',\n",
       " 'yours',\n",
       " 'yourself',\n",
       " 'yourselves',\n",
       " 'he',\n",
       " 'him',\n",
       " 'his',\n",
       " 'himself',\n",
       " 'she',\n",
       " \"she's\",\n",
       " 'her',\n",
       " 'hers',\n",
       " 'herself',\n",
       " 'it',\n",
       " \"it's\",\n",
       " 'its',\n",
       " 'itself',\n",
       " 'they',\n",
       " 'them',\n",
       " 'their',\n",
       " 'theirs',\n",
       " 'themselves',\n",
       " 'what',\n",
       " 'which',\n",
       " 'who',\n",
       " 'whom',\n",
       " 'this',\n",
       " 'that',\n",
       " \"that'll\",\n",
       " 'these',\n",
       " 'those',\n",
       " 'am',\n",
       " 'is',\n",
       " 'are',\n",
       " 'was',\n",
       " 'were',\n",
       " 'be',\n",
       " 'been',\n",
       " 'being',\n",
       " 'have',\n",
       " 'has',\n",
       " 'had',\n",
       " 'having',\n",
       " 'do',\n",
       " 'does',\n",
       " 'did',\n",
       " 'doing',\n",
       " 'a',\n",
       " 'an',\n",
       " 'the',\n",
       " 'and',\n",
       " 'but',\n",
       " 'if',\n",
       " 'or',\n",
       " 'because',\n",
       " 'as',\n",
       " 'until',\n",
       " 'while',\n",
       " 'of',\n",
       " 'at',\n",
       " 'by',\n",
       " 'for',\n",
       " 'with',\n",
       " 'about',\n",
       " 'against',\n",
       " 'between',\n",
       " 'into',\n",
       " 'through',\n",
       " 'during',\n",
       " 'before',\n",
       " 'after',\n",
       " 'above',\n",
       " 'below',\n",
       " 'to',\n",
       " 'from',\n",
       " 'up',\n",
       " 'down',\n",
       " 'in',\n",
       " 'out',\n",
       " 'on',\n",
       " 'off',\n",
       " 'over',\n",
       " 'under',\n",
       " 'again',\n",
       " 'further',\n",
       " 'then',\n",
       " 'once',\n",
       " 'here',\n",
       " 'there',\n",
       " 'when',\n",
       " 'where',\n",
       " 'why',\n",
       " 'how',\n",
       " 'all',\n",
       " 'any',\n",
       " 'both',\n",
       " 'each',\n",
       " 'few',\n",
       " 'more',\n",
       " 'most',\n",
       " 'other',\n",
       " 'some',\n",
       " 'such',\n",
       " 'no',\n",
       " 'nor',\n",
       " 'not',\n",
       " 'only',\n",
       " 'own',\n",
       " 'same',\n",
       " 'so',\n",
       " 'than',\n",
       " 'too',\n",
       " 'very',\n",
       " 's',\n",
       " 't',\n",
       " 'can',\n",
       " 'will',\n",
       " 'just',\n",
       " 'don',\n",
       " \"don't\",\n",
       " 'should',\n",
       " \"should've\",\n",
       " 'now',\n",
       " 'd',\n",
       " 'll',\n",
       " 'm',\n",
       " 'o',\n",
       " 're',\n",
       " 've',\n",
       " 'y',\n",
       " 'ain',\n",
       " 'aren',\n",
       " \"aren't\",\n",
       " 'couldn',\n",
       " \"couldn't\",\n",
       " 'didn',\n",
       " \"didn't\",\n",
       " 'doesn',\n",
       " \"doesn't\",\n",
       " 'hadn',\n",
       " \"hadn't\",\n",
       " 'hasn',\n",
       " \"hasn't\",\n",
       " 'haven',\n",
       " \"haven't\",\n",
       " 'isn',\n",
       " \"isn't\",\n",
       " 'ma',\n",
       " 'mightn',\n",
       " \"mightn't\",\n",
       " 'mustn',\n",
       " \"mustn't\",\n",
       " 'needn',\n",
       " \"needn't\",\n",
       " 'shan',\n",
       " \"shan't\",\n",
       " 'shouldn',\n",
       " \"shouldn't\",\n",
       " 'wasn',\n",
       " \"wasn't\",\n",
       " 'weren',\n",
       " \"weren't\",\n",
       " 'won',\n",
       " \"won't\",\n",
       " 'wouldn',\n",
       " \"wouldn't\",\n",
       " 'technology',\n",
       " 'science']"
      ]
     },
     "execution_count": 7,
     "metadata": {},
     "output_type": "execute_result"
    }
   ],
   "source": [
    "# add the possible giveaway words of the subreddit names to the stop words list.\n",
    "stop_words = stopwords.words('english') + ['technology', 'science']\n",
    "stop_words"
   ]
  },
  {
   "cell_type": "code",
   "execution_count": 8,
   "id": "e57824bc-b44f-4287-8a48-b314aa1ce2fb",
   "metadata": {},
   "outputs": [],
   "source": [
    "def filtered(data):\n",
    "    '''take in data and returned data that has been filtered of punctuation, \n",
    "    digits, and urls. '''\n",
    "    # replace \"-\" w/ 'hyphen', then remove emojis, punctuation, digits, and urls\n",
    "    # while keeping an indicator or url usage.\n",
    "    data_filtered = data.map(lambda x: clean(\n",
    "                            re.sub('-',repl=' hyphen ', string = x) , no_emoji=True,\n",
    "                                no_punct=True,no_digits=True, no_urls=True))\n",
    "\n",
    "    # remove leftovers from the 'clean' function  \n",
    "\n",
    "    data_filtered = data_filtered.map(lambda x: re.sub('(0|\\|)',\n",
    "                                                    repl='',string = x))\n",
    "    #replacing hyphen with '-'\n",
    "    data_filtered = data_filtered.map(lambda x: re.sub('hyphen',repl='-', string = x))\n",
    "    # remove stop words   \n",
    "    data_filtered = data_filtered.map(lambda x: ' '.join([word for word \n",
    "                                              in x.split() if word not in \n",
    "                                              stop_words]))\n",
    "    return data_filtered"
   ]
  },
  {
   "cell_type": "code",
   "execution_count": 9,
   "id": "35f57f34-bb61-408e-b60d-1075d5900e4a",
   "metadata": {},
   "outputs": [],
   "source": [
    "# instantiate filtered versions of train and test data that will be later \n",
    "# lemmatized\n",
    "\n",
    "X_train_filtered = filtered(X_train)\n",
    "X_test_filtered = filtered(X_test)"
   ]
  },
  {
   "cell_type": "markdown",
   "id": "5fcc70fe-61c5-4114-9ef1-0f21da239003",
   "metadata": {},
   "source": [
    "[how to get latest file](https://stackoverflow.com/questions/39327032/how-to-get-the-latest-file-in-a-folder)"
   ]
  },
  {
   "cell_type": "markdown",
   "id": "e51cd508-78ba-467a-928e-a10e9c94b40a",
   "metadata": {},
   "source": [
    "I'll get POS counts on the raw data.\n",
    "[dict to df](https://sparkbyexamples.com/python/pandas-convert-list-of-dictionaries-to-dataframe/#:~:text=The%20from_records()%20method%20is,dicts%20%2C%20or%20from%20another%20DataFrame.); \n",
    "[spacy POS tagging](https://machinelearningknowledge.ai/tutorial-on-spacy-part-of-speech-pos-tagging/); [spacy POS tagging #2](https://www.geeksforgeeks.org/python-pos-tagging-and-lemmatization-using-spacy/)"
   ]
  },
  {
   "cell_type": "markdown",
   "id": "2bd022fc-68ef-4864-9db6-922bb44a718c",
   "metadata": {
    "tags": []
   },
   "source": [
    "###### statistics"
   ]
  },
  {
   "cell_type": "code",
   "execution_count": 10,
   "id": "ee750be2-5ee3-401d-b834-2b169391a716",
   "metadata": {},
   "outputs": [],
   "source": [
    "# instantiate the spacy english language tokenizer.\n",
    "\n",
    "nlp = spacy.load('en_core_web_sm')"
   ]
  },
  {
   "cell_type": "code",
   "execution_count": 11,
   "id": "4e239a59-de19-4565-8838-604da49a6092",
   "metadata": {},
   "outputs": [],
   "source": [
    "def tokenize(titles):\n",
    "    '''tokenize a 1d object containing strings, returning a list of the \n",
    "    tokenized sentences'''\n",
    "    \n",
    "    tokenized = []\n",
    "    \n",
    "    for title in titles:\n",
    "        tokenized.append(nlp(title))\n",
    "        \n",
    "    return tokenized"
   ]
  },
  {
   "cell_type": "code",
   "execution_count": 12,
   "id": "d8980cca-3570-416e-8937-1fe3f6b1d9d7",
   "metadata": {
    "tags": []
   },
   "outputs": [],
   "source": [
    "# get tokenized data\n",
    "X_train_tokens = tokenize(X_train)\n",
    "X_test_tokens = tokenize(X_test)"
   ]
  },
  {
   "cell_type": "code",
   "execution_count": 13,
   "id": "32dd7704-0a5a-4785-b719-76c2e04d8644",
   "metadata": {},
   "outputs": [],
   "source": [
    "def get_pos_features(tokenized):\n",
    "    '''get the stats features that will be used in predicting, returned as a \n",
    "    sorted dictionary with keys as spacy parts of speech and fine pos tags'''\n",
    "    features = []\n",
    "    for tokens in tokenized:\n",
    "        for token in tokens:\n",
    "            # if token.pos_ not in features:\n",
    "                # features.append(token.pos_)\n",
    "            if token.tag_ not in features:\n",
    "                features.append(token.tag_)\n",
    "    return dict(zip(sorted(features),np.zeros(len(features)).astype(int)))"
   ]
  },
  {
   "cell_type": "code",
   "execution_count": 14,
   "id": "962dab07-7c94-4edc-8a85-d0b8068570c1",
   "metadata": {
    "tags": []
   },
   "outputs": [],
   "source": [
    "# get the parts of speech for which stats will be generated.\n",
    "pos_features = get_pos_features(X_train_tokens)"
   ]
  },
  {
   "cell_type": "code",
   "execution_count": 15,
   "id": "b0042707-1617-4d30-b690-a8fa2f89e682",
   "metadata": {},
   "outputs": [],
   "source": [
    "def get_title_stats(titles, tokenized, pos_feat_dict):\n",
    "    features = pos_feat_dict\n",
    "    '''generate title statistics from a 1d object of title and return as a \n",
    "    DataFrame '''\n",
    "    \n",
    "    # Char length, word count, max and avg word length\n",
    "    title_stats = pd.DataFrame()\n",
    "    title_stats['title_length'] = [len(titles[i]) for i in range(len(titles))]\n",
    "    title_stats['title_word_count'] = [len(titles[i].split(' ')) for \\\n",
    "                                        i in range(len(titles))]\n",
    "    title_stats['max_word_length'] = [max(map(len, title.split(' '))) \\\n",
    "                         for title in titles]\n",
    "    title_stats['avg_word_length'] = title_stats['title_length']/title_stats['title_word_count']\n",
    "    \n",
    "    # POS counts, fine pos tag counts    \n",
    "    parts_of_speech = []\n",
    "    for tokens in tokenized:\n",
    "        pos_counts = dict(features)\n",
    "        for token in tokens:\n",
    "            # pos_counts[token.pos_] += 1\n",
    "            pos_counts[token.tag_] += 1\n",
    "        parts_of_speech.append(pos_counts)\n",
    "    # combine \n",
    "    pos_df = pd.DataFrame(parts_of_speech).fillna(0)\n",
    "    # pos_props_df = pos_df.iloc[:,4:].div(title_stats.title_word_count,axis=0).add_prefix(\"prop_\")\n",
    "    \n",
    "    tstats_pos = pd.concat([title_stats, pos_df],axis = 1)\n",
    "    return  tstats_pos"
   ]
  },
  {
   "cell_type": "markdown",
   "id": "010a0cbc-c601-485e-a82c-c47fb5531484",
   "metadata": {
    "tags": []
   },
   "source": [
    "###### **Lemmatization** -- [sources](https://www.machinelearningplus.com/nlp/lemmatization-examples-python/)"
   ]
  },
  {
   "cell_type": "code",
   "execution_count": 16,
   "id": "9179e519-961b-454e-b7e8-4a2d4aae7eb4",
   "metadata": {},
   "outputs": [
    {
     "name": "stderr",
     "output_type": "stream",
     "text": [
      "[nltk_data] Downloading package averaged_perceptron_tagger to\n",
      "[nltk_data]     /Users/william/nltk_data...\n",
      "[nltk_data]   Package averaged_perceptron_tagger is already up-to-\n",
      "[nltk_data]       date!\n"
     ]
    },
    {
     "data": {
      "text/plain": [
       "True"
      ]
     },
     "execution_count": 16,
     "metadata": {},
     "output_type": "execute_result"
    }
   ],
   "source": [
    "lemmatizer = WordNetLemmatizer()\n",
    "import nltk\n",
    "nltk.download('averaged_perceptron_tagger')"
   ]
  },
  {
   "cell_type": "markdown",
   "id": "6218a8a5-05f8-4815-abf0-9790941b5555",
   "metadata": {},
   "source": [
    "[Lemmatizing w/ POS](https://www.machinelearningplus.com/nlp/lemmatization-examples-python/)"
   ]
  },
  {
   "cell_type": "code",
   "execution_count": 17,
   "id": "a6514145-4e90-480c-bf69-a7656d9834ae",
   "metadata": {
    "tags": []
   },
   "outputs": [],
   "source": [
    "# Lemmatize with POS Tag\n",
    "\n",
    "def get_wordnet_pos(word):\n",
    "    \"\"\"Map POS tag to first character lemmatize() accepts\"\"\"\n",
    "    tag = nltk.pos_tag([word])[0][1][0].upper()\n",
    "    tag_dict = {\"J\": wordnet.ADJ,\n",
    "                \"N\": wordnet.NOUN,\n",
    "                \"V\": wordnet.VERB,\n",
    "                \"R\": wordnet.ADV}\n",
    "    return tag_dict.get(tag, wordnet.NOUN)"
   ]
  },
  {
   "cell_type": "markdown",
   "id": "7de2616f-defc-49f2-8a9b-2b5f1c1b6b39",
   "metadata": {},
   "source": [
    "To-do/idea: get POS counts [source](https://stackoverflow.com/questions/20960777/python-how-to-count-pos-tags-from-from-a-sentence)"
   ]
  },
  {
   "cell_type": "code",
   "execution_count": 18,
   "id": "89443d51-5586-451a-a480-b8cd235bfebf",
   "metadata": {
    "tags": []
   },
   "outputs": [],
   "source": [
    "lemmatizer = WordNetLemmatizer()\n",
    "# Lemmatize train\n",
    "X_train_lemmatized = []\n",
    "for title in X_train_filtered:\n",
    "    X_train_lemmatized.append(' '.join([lemmatizer.lemmatize(w, get_wordnet_pos(w)) for \\\n",
    "                               w in nltk.word_tokenize(title)]))\n",
    "X_train_lemmatized = pd.Series(data = X_train_lemmatized, index = X_train_filtered.index)\n",
    "X_train_lemmatized\n",
    "\n",
    "# Lemmatize test\n",
    "X_test_lemmatized = []\n",
    "for title in X_test_filtered:\n",
    "    X_test_lemmatized.append(' '.join([lemmatizer.lemmatize(w, get_wordnet_pos(w)) for \\\n",
    "                               w in nltk.word_tokenize(title)]))\n",
    "X_test_lemmatized = pd.Series(data = X_test_lemmatized, index = X_test_filtered.index)\n"
   ]
  },
  {
   "cell_type": "markdown",
   "id": "903b0398-83c8-40c6-9e55-2278e748c4cc",
   "metadata": {
    "tags": []
   },
   "source": [
    "##### EDA"
   ]
  },
  {
   "cell_type": "markdown",
   "id": "85e4c2b3-fd10-4d67-92cd-6ebf4cc6e442",
   "metadata": {},
   "source": [
    "Below I will inspect various distributions of title statistics after adding the statistics to the dataframe."
   ]
  },
  {
   "cell_type": "code",
   "execution_count": 19,
   "id": "0d7a3422-2f13-4e0e-8502-f52042f01889",
   "metadata": {},
   "outputs": [],
   "source": [
    "# DataFrame from the lemmatized series\n",
    "df = pd.DataFrame(X_train_lemmatized, columns = ['title']).join(pd.DataFrame(y_train))"
   ]
  },
  {
   "cell_type": "code",
   "execution_count": 20,
   "id": "68ed19be-f89c-4410-96b0-ed432e2e60c4",
   "metadata": {},
   "outputs": [],
   "source": [
    "df_test = pd.DataFrame(X_test_lemmatized, columns = ['title']).join(pd.DataFrame(y_train))"
   ]
  },
  {
   "cell_type": "code",
   "execution_count": 21,
   "id": "f497e187-8c16-4dc0-95d9-aa7cf27e3a41",
   "metadata": {},
   "outputs": [],
   "source": [
    "df.index = range(df.shape[0])"
   ]
  },
  {
   "cell_type": "code",
   "execution_count": 22,
   "id": "6412d977-d0e5-4dda-83eb-d47b9fa08b1e",
   "metadata": {
    "tags": []
   },
   "outputs": [],
   "source": [
    "df['title_length'] = [len(df.loc[i,'title']) for i in range(len(df['title']))]"
   ]
  },
  {
   "cell_type": "code",
   "execution_count": 23,
   "id": "a357d8c6-8480-41d8-8d57-93619f12f578",
   "metadata": {},
   "outputs": [],
   "source": [
    "df['title_word_count'] = [len(df.loc[i,'title'].split(' ')) for i in range(len(df['title']))]"
   ]
  },
  {
   "cell_type": "code",
   "execution_count": 24,
   "id": "e020abad-5b48-4808-9ef5-a39e9ad72dbf",
   "metadata": {},
   "outputs": [],
   "source": [
    "df['max_word_length'] = [max(map(len, title.split(' '))) \\\n",
    "                         for title in df['title']] "
   ]
  },
  {
   "cell_type": "code",
   "execution_count": 25,
   "id": "1bb4cff3-0ea8-4c6e-83e0-ab9fe1081e6f",
   "metadata": {},
   "outputs": [],
   "source": [
    "df['avg_word_length'] = df['title_length']/df['title_word_count']"
   ]
  },
  {
   "cell_type": "code",
   "execution_count": 26,
   "id": "786928bc-fcf4-477b-a581-b3e5657558db",
   "metadata": {},
   "outputs": [],
   "source": [
    "df['subreddit_indicator']=[1 if sub == 'technology' else 0 for sub in df['subreddit']]"
   ]
  },
  {
   "cell_type": "code",
   "execution_count": 27,
   "id": "687b9a14-684f-4625-9517-170464c8dedf",
   "metadata": {},
   "outputs": [],
   "source": [
    "import seaborn as sns"
   ]
  },
  {
   "cell_type": "markdown",
   "id": "fe945764-9d92-4ab2-b564-bc2314a40752",
   "metadata": {},
   "source": [
    "###### Visualizations"
   ]
  },
  {
   "cell_type": "code",
   "execution_count": 28,
   "id": "84c9de48-b142-47bb-87e5-820e11fa642b",
   "metadata": {},
   "outputs": [
    {
     "data": {
      "image/png": "[encoded data removed]",
      "text/plain": [
       "<Figure size 432x288 with 1 Axes>"
      ]
     },
     "metadata": {
      "needs_background": "light"
     },
     "output_type": "display_data"
    }
   ],
   "source": [
    "sns.histplot(data = df, x = 'title_word_count', hue = 'subreddit', stat='density', common_norm = False, bins = 45).set(title = 'Distribution of title word counts by subreddit')\n",
    "plt.savefig('./visuals/word_count_dist')"
   ]
  },
  {
   "cell_type": "markdown",
   "id": "447637c2-20a2-4ce3-98db-5a2919868f32",
   "metadata": {},
   "source": [
    "Above we can see that shorter titles have a better chance of having been posted to technology, while longer titles are more likely from science even after accounting for baseline frequencies."
   ]
  },
  {
   "cell_type": "markdown",
   "id": "e9ac4d71-7db1-4cb4-90d1-2fdef8a44d48",
   "metadata": {},
   "source": [
    "Above we see that there are many posts between 0 and 20 words long with a "
   ]
  },
  {
   "cell_type": "code",
   "execution_count": 29,
   "id": "6373fb51-2c1c-4290-91fb-c70555e8a010",
   "metadata": {},
   "outputs": [
    {
     "data": {
      "image/png": "[encoded data removed]",
      "text/plain": [
       "<Figure size 432x288 with 1 Axes>"
      ]
     },
     "metadata": {
      "needs_background": "light"
     },
     "output_type": "display_data"
    }
   ],
   "source": [
    "sns.histplot(data = df, x = 'title_length', hue = 'subreddit', stat='density', \n",
    "common_norm = False).set(title = 'Distribution of title character length by \\\n",
    "subreddit')\n",
    "plt.savefig('./visuals/title_chars_dist')"
   ]
  },
  {
   "cell_type": "markdown",
   "id": "f836a7b2-5af2-43e4-9068-21ce86d5e1c3",
   "metadata": {},
   "source": [
    "Above we see that generally title character lengths under around 80 are more likely to have been from technology, and above 80 from science."
   ]
  },
  {
   "cell_type": "code",
   "execution_count": 30,
   "id": "4d6a490f-d777-429d-89ad-f3cf3d3bfce5",
   "metadata": {},
   "outputs": [
    {
     "data": {
      "image/png": "[encoded data removed]",
      "text/plain": [
       "<Figure size 432x288 with 1 Axes>"
      ]
     },
     "metadata": {
      "needs_background": "light"
     },
     "output_type": "display_data"
    }
   ],
   "source": [
    "sns.histplot(data = df, x = 'avg_word_length', hue = 'subreddit', \n",
    "             stat='density', bins = 100, common_norm = False).set(\n",
    "    title = 'Distribution of average title word length by subreddit', xlim = [4,11])\n",
    "plt.savefig('./visuals/word_len_dist')"
   ]
  },
  {
   "cell_type": "markdown",
   "id": "72ca38b8-8056-411a-9bd1-266b08e80f9b",
   "metadata": {},
   "source": [
    "[adjusting bins](https://stackoverflow.com/questions/48990594/how-to-draw-distribution-plot-for-discrete-variables-in-seaborn)"
   ]
  },
  {
   "cell_type": "code",
   "execution_count": 31,
   "id": "0f5d56e6-3d23-4715-8f37-922069b4b0cf",
   "metadata": {},
   "outputs": [
    {
     "data": {
      "image/png": "[encoded data removed]",
      "text/plain": [
       "<Figure size 432x288 with 1 Axes>"
      ]
     },
     "metadata": {
      "needs_background": "light"
     },
     "output_type": "display_data"
    }
   ],
   "source": [
    "sns.histplot(data = df, x = 'max_word_length', hue = 'subreddit', \n",
    "             stat='density', common_norm = False, bins=np.arange(0,21)).set(\n",
    "    title = 'Distribution of max word length by subreddit', xlim = [0,20], \n",
    "    xticks = range(0,21));\n",
    "plt.savefig('./visuals/max_wlen_dist')"
   ]
  },
  {
   "cell_type": "code",
   "execution_count": 32,
   "id": "cfcd8a8b-ff98-4d9d-a21f-a550cf4552bc",
   "metadata": {},
   "outputs": [
    {
     "data": {
      "text/html": [
       "<div>\n",
       "<style scoped>\n",
       "    .dataframe tbody tr th:only-of-type {\n",
       "        vertical-align: middle;\n",
       "    }\n",
       "\n",
       "    .dataframe tbody tr th {\n",
       "        vertical-align: top;\n",
       "    }\n",
       "\n",
       "    .dataframe thead th {\n",
       "        text-align: right;\n",
       "    }\n",
       "</style>\n",
       "<table border=\"1\" class=\"dataframe\">\n",
       "  <thead>\n",
       "    <tr style=\"text-align: right;\">\n",
       "      <th></th>\n",
       "      <th>title_length</th>\n",
       "      <th>title_word_count</th>\n",
       "      <th>max_word_length</th>\n",
       "      <th>avg_word_length</th>\n",
       "      <th>subreddit_indicator</th>\n",
       "    </tr>\n",
       "  </thead>\n",
       "  <tbody>\n",
       "    <tr>\n",
       "      <th>title_length</th>\n",
       "      <td>1.000000</td>\n",
       "      <td>0.965425</td>\n",
       "      <td>0.463745</td>\n",
       "      <td>0.216842</td>\n",
       "      <td>-0.285014</td>\n",
       "    </tr>\n",
       "    <tr>\n",
       "      <th>title_word_count</th>\n",
       "      <td>0.965425</td>\n",
       "      <td>1.000000</td>\n",
       "      <td>0.347613</td>\n",
       "      <td>0.017029</td>\n",
       "      <td>-0.212927</td>\n",
       "    </tr>\n",
       "    <tr>\n",
       "      <th>max_word_length</th>\n",
       "      <td>0.463745</td>\n",
       "      <td>0.347613</td>\n",
       "      <td>1.000000</td>\n",
       "      <td>0.625348</td>\n",
       "      <td>-0.215104</td>\n",
       "    </tr>\n",
       "    <tr>\n",
       "      <th>avg_word_length</th>\n",
       "      <td>0.216842</td>\n",
       "      <td>0.017029</td>\n",
       "      <td>0.625348</td>\n",
       "      <td>1.000000</td>\n",
       "      <td>-0.242165</td>\n",
       "    </tr>\n",
       "    <tr>\n",
       "      <th>subreddit_indicator</th>\n",
       "      <td>-0.285014</td>\n",
       "      <td>-0.212927</td>\n",
       "      <td>-0.215104</td>\n",
       "      <td>-0.242165</td>\n",
       "      <td>1.000000</td>\n",
       "    </tr>\n",
       "  </tbody>\n",
       "</table>\n",
       "</div>"
      ],
      "text/plain": [
       "                     title_length  title_word_count  max_word_length  \\\n",
       "title_length             1.000000          0.965425         0.463745   \n",
       "title_word_count         0.965425          1.000000         0.347613   \n",
       "max_word_length          0.463745          0.347613         1.000000   \n",
       "avg_word_length          0.216842          0.017029         0.625348   \n",
       "subreddit_indicator     -0.285014         -0.212927        -0.215104   \n",
       "\n",
       "                     avg_word_length  subreddit_indicator  \n",
       "title_length                0.216842            -0.285014  \n",
       "title_word_count            0.017029            -0.212927  \n",
       "max_word_length             0.625348            -0.215104  \n",
       "avg_word_length             1.000000            -0.242165  \n",
       "subreddit_indicator        -0.242165             1.000000  "
      ]
     },
     "execution_count": 32,
     "metadata": {},
     "output_type": "execute_result"
    }
   ],
   "source": [
    "df.corr()"
   ]
  },
  {
   "cell_type": "markdown",
   "id": "1c385bd3-190c-4b8c-a7b2-a1ffe31b5c6d",
   "metadata": {},
   "source": [
    "Above we see that word length, character count, and word counts all have some correlation with the particular subredit, though the correlation is not strong.  However, from the density plots and the clear separation in likelihoods it is apparent that valuable information would likely be picked up from a tree-based classification model.  It is promising that the title statistics gathered thus far are not fully correlated with each other as this means they can provide non-redundant information to the modeling process."
   ]
  },
  {
   "cell_type": "markdown",
   "id": "bc012395-1921-4bfa-a23d-11be292bb07b",
   "metadata": {},
   "source": [
    "I'll next look at word count frequencies"
   ]
  },
  {
   "cell_type": "code",
   "execution_count": 33,
   "id": "0f3b4d65-7090-4e45-9dab-cd14f9817ddd",
   "metadata": {},
   "outputs": [
    {
     "data": {
      "image/png": "[encoded data removed]",
      "text/plain": [
       "<Figure size 432x288 with 1 Axes>"
      ]
     },
     "metadata": {
      "needs_background": "light"
     },
     "output_type": "display_data"
    }
   ],
   "source": [
    "cv = CountVectorizer()\n",
    "vectors = cv.fit_transform(df[df['subreddit']=='technology']['title'])\n",
    "vectors.A\n",
    "wc_vec = pd.DataFrame(vectors.A, columns = cv.get_feature_names_out())\n",
    "wc_vec.sum().sort_values(ascending = False)[0:15].plot(kind = 'bar')\\\n",
    ".set(title = '15 most common words word count -- technology')\n",
    "plt.savefig('./visuals/tech_common_words')"
   ]
  },
  {
   "cell_type": "code",
   "execution_count": 34,
   "id": "bb79fd7b-647e-4e4b-9f6e-2b1426a96c22",
   "metadata": {},
   "outputs": [
    {
     "data": {
      "image/png": "[encoded data removed]",
      "text/plain": [
       "<Figure size 432x288 with 1 Axes>"
      ]
     },
     "metadata": {
      "needs_background": "light"
     },
     "output_type": "display_data"
    }
   ],
   "source": [
    "cv = CountVectorizer()\n",
    "vectors = cv.fit_transform(df[df['subreddit']=='science']['title'])\n",
    "vectors.A\n",
    "wc_vec = pd.DataFrame(vectors.A, columns = cv.get_feature_names_out())\n",
    "wc_vec.sum().sort_values(ascending = False)[0:15].plot(kind = 'bar')\\\n",
    ".set(title = '15 most common words word count -- science')\n",
    "\n",
    "plt.savefig('./visuals/sci_common_words')"
   ]
  },
  {
   "cell_type": "markdown",
   "id": "8185bd6d-4c61-45c7-9cf3-8baa5ec86349",
   "metadata": {},
   "source": [
    "Above we see that there is not much overlap within the 15 most common words.  This indicates that there is a good chance that these common words will help with distinguishing between the subreddits.  Of note is that proper nouns seem to feature heavily in technology and almost not at all in science."
   ]
  },
  {
   "cell_type": "markdown",
   "id": "cf9d0e51-85f6-4d78-ba8b-01245080091c",
   "metadata": {
    "tags": []
   },
   "source": [
    "##### **Modeling**"
   ]
  },
  {
   "cell_type": "markdown",
   "id": "9b2c7a74-7b24-46b6-8505-d407e3d955f2",
   "metadata": {},
   "source": [
    "In the modeling phase I see whether models were able to pick up differentiators in the text, text statistics, or sentiment."
   ]
  },
  {
   "cell_type": "markdown",
   "id": "d5f74d4d-4d05-4b9b-95f7-041fab9de433",
   "metadata": {
    "tags": []
   },
   "source": [
    "###### Iterative improvement ideas"
   ]
  },
  {
   "cell_type": "markdown",
   "id": "b0d0707a-5d54-4e0f-ba8d-2bf259720cf9",
   "metadata": {},
   "source": [
    "Idea: combine these fuctionalities around the text data into a class with methods.\n",
    "Idea: a class that grid search optimizes functions in the background."
   ]
  },
  {
   "cell_type": "markdown",
   "id": "0290bc70-80a0-4dec-bdd3-e52d29c89b18",
   "metadata": {},
   "source": [
    "searching with bayesian [hyperopt](https://grabngoinfo.com/hyperparameter-tuning-for-xgboost-grid-search-vs-random-search-vs-bayesian-optimization/) is a possible further exploration"
   ]
  },
  {
   "cell_type": "markdown",
   "id": "02a224be-a9fa-4ebe-9b03-0b44e86b9f96",
   "metadata": {
    "tags": []
   },
   "source": [
    "###### Baseline"
   ]
  },
  {
   "cell_type": "code",
   "execution_count": 35,
   "id": "3006a19e-57f0-4e99-a933-88eab7f91c20",
   "metadata": {},
   "outputs": [
    {
     "data": {
      "text/plain": [
       "0.6791075050709939"
      ]
     },
     "execution_count": 35,
     "metadata": {},
     "output_type": "execute_result"
    }
   ],
   "source": [
    "dc = DummyClassifier()\n",
    "dc.fit(X_train,y_train)\n",
    "dc.score(X_test,y_test)"
   ]
  },
  {
   "cell_type": "markdown",
   "id": "a9a5f3d6-8bf4-4415-884e-af01691eab97",
   "metadata": {},
   "source": [
    "The baseline model accuracy is 67.9%, which means that the most common subreddit has a 67.9% frequency in the data.  If we are able to improve upon this significantly, then the modeling process can be considered successful."
   ]
  },
  {
   "cell_type": "markdown",
   "id": "4c1750ff-b311-47b2-ac40-aaa857a1583d",
   "metadata": {
    "tags": []
   },
   "source": [
    "###### binary target encoding"
   ]
  },
  {
   "cell_type": "code",
   "execution_count": 36,
   "id": "c55c4116-32bf-44a7-b4e1-5a49f0fe14a1",
   "metadata": {},
   "outputs": [],
   "source": [
    "# binary format for XGB target\n",
    "y_train_binary = [1 if sub == 'technology' else 0 for sub in y_train]\n",
    "y_test_binary = [1 if sub == 'technology' else 0 for sub in y_test]"
   ]
  },
  {
   "cell_type": "markdown",
   "id": "c9f14047-4736-43ea-b0a1-86f20b32ddac",
   "metadata": {
    "tags": []
   },
   "source": [
    "###### modeling on statistics of the titles"
   ]
  },
  {
   "cell_type": "markdown",
   "id": "63857bd0-e6a8-467a-9071-86b83fcbcb49",
   "metadata": {},
   "source": [
    "What can we glean from title statistics analysis?"
   ]
  },
  {
   "cell_type": "code",
   "execution_count": 37,
   "id": "7bba6a74-9b7a-48bc-b37b-0bc77a2f6744",
   "metadata": {},
   "outputs": [],
   "source": [
    "X_train_stats = get_title_stats(X_train,X_train_tokens,pos_features)\n",
    "X_test_stats = get_title_stats(X_test,X_test_tokens,pos_features)"
   ]
  },
  {
   "cell_type": "code",
   "execution_count": 38,
   "id": "ab153b68-bbf9-4b53-b8ed-8b69b63d6c96",
   "metadata": {
    "tags": []
   },
   "outputs": [
    {
     "data": {
      "text/html": [
       "<style>#sk-container-id-1 {color: black;background-color: white;}#sk-container-id-1 pre{padding: 0;}#sk-container-id-1 div.sk-toggleable {background-color: white;}#sk-container-id-1 label.sk-toggleable__label {cursor: pointer;display: block;width: 100%;margin-bottom: 0;padding: 0.3em;box-sizing: border-box;text-align: center;}#sk-container-id-1 label.sk-toggleable__label-arrow:before {content: \"▸\";float: left;margin-right: 0.25em;color: #696969;}#sk-container-id-1 label.sk-toggleable__label-arrow:hover:before {color: black;}#sk-container-id-1 div.sk-estimator:hover label.sk-toggleable__label-arrow:before {color: black;}#sk-container-id-1 div.sk-toggleable__content {max-height: 0;max-width: 0;overflow: hidden;text-align: left;background-color: #f0f8ff;}#sk-container-id-1 div.sk-toggleable__content pre {margin: 0.2em;color: black;border-radius: 0.25em;background-color: #f0f8ff;}#sk-container-id-1 input.sk-toggleable__control:checked~div.sk-toggleable__content {max-height: 200px;max-width: 100%;overflow: auto;}#sk-container-id-1 input.sk-toggleable__control:checked~label.sk-toggleable__label-arrow:before {content: \"▾\";}#sk-container-id-1 div.sk-estimator input.sk-toggleable__control:checked~label.sk-toggleable__label {background-color: #d4ebff;}#sk-container-id-1 div.sk-label input.sk-toggleable__control:checked~label.sk-toggleable__label {background-color: #d4ebff;}#sk-container-id-1 input.sk-hidden--visually {border: 0;clip: rect(1px 1px 1px 1px);clip: rect(1px, 1px, 1px, 1px);height: 1px;margin: -1px;overflow: hidden;padding: 0;position: absolute;width: 1px;}#sk-container-id-1 div.sk-estimator {font-family: monospace;background-color: #f0f8ff;border: 1px dotted black;border-radius: 0.25em;box-sizing: border-box;margin-bottom: 0.5em;}#sk-container-id-1 div.sk-estimator:hover {background-color: #d4ebff;}#sk-container-id-1 div.sk-parallel-item::after {content: \"\";width: 100%;border-bottom: 1px solid gray;flex-grow: 1;}#sk-container-id-1 div.sk-label:hover label.sk-toggleable__label {background-color: #d4ebff;}#sk-container-id-1 div.sk-serial::before {content: \"\";position: absolute;border-left: 1px solid gray;box-sizing: border-box;top: 0;bottom: 0;left: 50%;z-index: 0;}#sk-container-id-1 div.sk-serial {display: flex;flex-direction: column;align-items: center;background-color: white;padding-right: 0.2em;padding-left: 0.2em;position: relative;}#sk-container-id-1 div.sk-item {position: relative;z-index: 1;}#sk-container-id-1 div.sk-parallel {display: flex;align-items: stretch;justify-content: center;background-color: white;position: relative;}#sk-container-id-1 div.sk-item::before, #sk-container-id-1 div.sk-parallel-item::before {content: \"\";position: absolute;border-left: 1px solid gray;box-sizing: border-box;top: 0;bottom: 0;left: 50%;z-index: -1;}#sk-container-id-1 div.sk-parallel-item {display: flex;flex-direction: column;z-index: 1;position: relative;background-color: white;}#sk-container-id-1 div.sk-parallel-item:first-child::after {align-self: flex-end;width: 50%;}#sk-container-id-1 div.sk-parallel-item:last-child::after {align-self: flex-start;width: 50%;}#sk-container-id-1 div.sk-parallel-item:only-child::after {width: 0;}#sk-container-id-1 div.sk-dashed-wrapped {border: 1px dashed gray;margin: 0 0.4em 0.5em 0.4em;box-sizing: border-box;padding-bottom: 0.4em;background-color: white;}#sk-container-id-1 div.sk-label label {font-family: monospace;font-weight: bold;display: inline-block;line-height: 1.2em;}#sk-container-id-1 div.sk-label-container {text-align: center;}#sk-container-id-1 div.sk-container {/* jupyter's `normalize.less` sets `[hidden] { display: none; }` but bootstrap.min.css set `[hidden] { display: none !important; }` so we also need the `!important` here to be able to override the default hidden behavior on the sphinx rendered scikit-learn.org. See: https://github.com/scikit-learn/scikit-learn/issues/21755 */display: inline-block !important;position: relative;}#sk-container-id-1 div.sk-text-repr-fallback {display: none;}</style><div id=\"sk-container-id-1\" class=\"sk-top-container\"><div class=\"sk-text-repr-fallback\"><pre>XGBClassifier(base_score=0.5, booster=&#x27;gbtree&#x27;, callbacks=None,\n",
       "              colsample_bylevel=1, colsample_bynode=1, colsample_bytree=1,\n",
       "              early_stopping_rounds=None, enable_categorical=False,\n",
       "              eval_metric=None, feature_types=None, gamma=0, gpu_id=-1,\n",
       "              grow_policy=&#x27;depthwise&#x27;, importance_type=None,\n",
       "              interaction_constraints=&#x27;&#x27;, learning_rate=0.300000012,\n",
       "              max_bin=256, max_cat_threshold=64, max_cat_to_onehot=4,\n",
       "              max_delta_step=0, max_depth=6, max_leaves=0, min_child_weight=1,\n",
       "              missing=nan, monotone_constraints=&#x27;()&#x27;, n_estimators=100,\n",
       "              n_jobs=0, num_parallel_tree=1, predictor=&#x27;auto&#x27;, random_state=0, ...)</pre><b>In a Jupyter environment, please rerun this cell to show the HTML representation or trust the notebook. <br />On GitHub, the HTML representation is unable to render, please try loading this page with nbviewer.org.</b></div><div class=\"sk-container\" hidden><div class=\"sk-item\"><div class=\"sk-estimator sk-toggleable\"><input class=\"sk-toggleable__control sk-hidden--visually\" id=\"sk-estimator-id-1\" type=\"checkbox\" checked><label for=\"sk-estimator-id-1\" class=\"sk-toggleable__label sk-toggleable__label-arrow\">XGBClassifier</label><div class=\"sk-toggleable__content\"><pre>XGBClassifier(base_score=0.5, booster=&#x27;gbtree&#x27;, callbacks=None,\n",
       "              colsample_bylevel=1, colsample_bynode=1, colsample_bytree=1,\n",
       "              early_stopping_rounds=None, enable_categorical=False,\n",
       "              eval_metric=None, feature_types=None, gamma=0, gpu_id=-1,\n",
       "              grow_policy=&#x27;depthwise&#x27;, importance_type=None,\n",
       "              interaction_constraints=&#x27;&#x27;, learning_rate=0.300000012,\n",
       "              max_bin=256, max_cat_threshold=64, max_cat_to_onehot=4,\n",
       "              max_delta_step=0, max_depth=6, max_leaves=0, min_child_weight=1,\n",
       "              missing=nan, monotone_constraints=&#x27;()&#x27;, n_estimators=100,\n",
       "              n_jobs=0, num_parallel_tree=1, predictor=&#x27;auto&#x27;, random_state=0, ...)</pre></div></div></div></div></div>"
      ],
      "text/plain": [
       "XGBClassifier(base_score=0.5, booster='gbtree', callbacks=None,\n",
       "              colsample_bylevel=1, colsample_bynode=1, colsample_bytree=1,\n",
       "              early_stopping_rounds=None, enable_categorical=False,\n",
       "              eval_metric=None, feature_types=None, gamma=0, gpu_id=-1,\n",
       "              grow_policy='depthwise', importance_type=None,\n",
       "              interaction_constraints='', learning_rate=0.300000012,\n",
       "              max_bin=256, max_cat_threshold=64, max_cat_to_onehot=4,\n",
       "              max_delta_step=0, max_depth=6, max_leaves=0, min_child_weight=1,\n",
       "              missing=nan, monotone_constraints='()', n_estimators=100,\n",
       "              n_jobs=0, num_parallel_tree=1, predictor='auto', random_state=0, ...)"
      ]
     },
     "execution_count": 38,
     "metadata": {},
     "output_type": "execute_result"
    }
   ],
   "source": [
    "xgb = xgboost.XGBClassifier()\n",
    "xgb.fit(X_train_stats, y_train_binary)"
   ]
  },
  {
   "cell_type": "code",
   "execution_count": 39,
   "id": "9b9ceb73-c92a-4120-a34e-dc2242577e3d",
   "metadata": {},
   "outputs": [
    {
     "data": {
      "text/plain": [
       "(0.9124729437229437, 0.7995943204868154)"
      ]
     },
     "execution_count": 39,
     "metadata": {},
     "output_type": "execute_result"
    }
   ],
   "source": [
    "xgb.score(X_train_stats, y_train_binary), xgb.score(X_test_stats, y_test_binary)"
   ]
  },
  {
   "cell_type": "markdown",
   "id": "c7e5c347-23f2-4703-8d4f-c4567701515d",
   "metadata": {},
   "source": [
    "The initial model of the score indicates substantial overfitting, so I will attempt to use random search to optimize the parameters max_depth, min_child_weight, gamma, subsample and colsample_bytree. [Control overfitting](https://xgboost.readthedocs.io/en/stable/tutorials/param_tuning.html)"
   ]
  },
  {
   "cell_type": "markdown",
   "id": "d3ef9cb2-a2d8-41d6-ab28-c817e18972ff",
   "metadata": {},
   "source": [
    "[random search example](https://scikit-learn.org/stable/auto_examples/model_selection/plot_randomized_search.html#sphx-glr-auto-examples-model-selection-plot-randomized-search-py)"
   ]
  },
  {
   "cell_type": "code",
   "execution_count": 40,
   "id": "de75ee6e-0b18-46b7-8197-dca6f302f244",
   "metadata": {},
   "outputs": [],
   "source": [
    "def report(results, n_top=3):\n",
    "    for i in range(1, n_top + 1):\n",
    "        candidates = np.flatnonzero(results[\"rank_test_score\"] == i)\n",
    "        for candidate in candidates:\n",
    "            print(\"Model with rank: {0}\".format(i))\n",
    "            print(\n",
    "                \"Mean validation score: {0:.3f} (std: {1:.3f})\".format(\n",
    "                    results[\"mean_test_score\"][candidate],\n",
    "                    results[\"std_test_score\"][candidate],\n",
    "                )\n",
    "            )\n",
    "            print(\"Parameters: {0}\".format(results[\"params\"][candidate]))\n",
    "            print(\"\")"
   ]
  },
  {
   "cell_type": "code",
   "execution_count": 41,
   "id": "f77bb01f-f3cb-4f70-8d62-f16a0dc3e11e",
   "metadata": {},
   "outputs": [],
   "source": [
    "xgb = xgboost.XGBClassifier()\n",
    "param_dist = {\n",
    "              # 'booster': ['gbtree'],\n",
    "              'max_depth': np.linspace(1,6, num = 6).astype(int),\n",
    "              # 'min_child_weight': np.logspace(.01, 1, num = 3),\n",
    "              # 'gamma': np.logspace(.01, 1, num = 5),\n",
    "              # 'subsample': np.linspace(.5,1,num=4),\n",
    "              'colsample_bytree': np.linspace(.1,1,num=4)\n",
    "              }\n",
    "n_iter_search = 15"
   ]
  },
  {
   "cell_type": "code",
   "execution_count": 42,
   "id": "37206a17-9890-4cc9-b116-14340c67d3e9",
   "metadata": {},
   "outputs": [],
   "source": [
    "random_search = RandomizedSearchCV(\n",
    "    xgb, param_distributions=param_dist, n_iter=n_iter_search, n_jobs=-1\n",
    ")"
   ]
  },
  {
   "cell_type": "code",
   "execution_count": 43,
   "id": "270f34c0-884b-48f8-8311-72dd9b4b3e12",
   "metadata": {},
   "outputs": [
    {
     "data": {
      "text/html": [
       "<style>#sk-container-id-2 {color: black;background-color: white;}#sk-container-id-2 pre{padding: 0;}#sk-container-id-2 div.sk-toggleable {background-color: white;}#sk-container-id-2 label.sk-toggleable__label {cursor: pointer;display: block;width: 100%;margin-bottom: 0;padding: 0.3em;box-sizing: border-box;text-align: center;}#sk-container-id-2 label.sk-toggleable__label-arrow:before {content: \"▸\";float: left;margin-right: 0.25em;color: #696969;}#sk-container-id-2 label.sk-toggleable__label-arrow:hover:before {color: black;}#sk-container-id-2 div.sk-estimator:hover label.sk-toggleable__label-arrow:before {color: black;}#sk-container-id-2 div.sk-toggleable__content {max-height: 0;max-width: 0;overflow: hidden;text-align: left;background-color: #f0f8ff;}#sk-container-id-2 div.sk-toggleable__content pre {margin: 0.2em;color: black;border-radius: 0.25em;background-color: #f0f8ff;}#sk-container-id-2 input.sk-toggleable__control:checked~div.sk-toggleable__content {max-height: 200px;max-width: 100%;overflow: auto;}#sk-container-id-2 input.sk-toggleable__control:checked~label.sk-toggleable__label-arrow:before {content: \"▾\";}#sk-container-id-2 div.sk-estimator input.sk-toggleable__control:checked~label.sk-toggleable__label {background-color: #d4ebff;}#sk-container-id-2 div.sk-label input.sk-toggleable__control:checked~label.sk-toggleable__label {background-color: #d4ebff;}#sk-container-id-2 input.sk-hidden--visually {border: 0;clip: rect(1px 1px 1px 1px);clip: rect(1px, 1px, 1px, 1px);height: 1px;margin: -1px;overflow: hidden;padding: 0;position: absolute;width: 1px;}#sk-container-id-2 div.sk-estimator {font-family: monospace;background-color: #f0f8ff;border: 1px dotted black;border-radius: 0.25em;box-sizing: border-box;margin-bottom: 0.5em;}#sk-container-id-2 div.sk-estimator:hover {background-color: #d4ebff;}#sk-container-id-2 div.sk-parallel-item::after {content: \"\";width: 100%;border-bottom: 1px solid gray;flex-grow: 1;}#sk-container-id-2 div.sk-label:hover label.sk-toggleable__label {background-color: #d4ebff;}#sk-container-id-2 div.sk-serial::before {content: \"\";position: absolute;border-left: 1px solid gray;box-sizing: border-box;top: 0;bottom: 0;left: 50%;z-index: 0;}#sk-container-id-2 div.sk-serial {display: flex;flex-direction: column;align-items: center;background-color: white;padding-right: 0.2em;padding-left: 0.2em;position: relative;}#sk-container-id-2 div.sk-item {position: relative;z-index: 1;}#sk-container-id-2 div.sk-parallel {display: flex;align-items: stretch;justify-content: center;background-color: white;position: relative;}#sk-container-id-2 div.sk-item::before, #sk-container-id-2 div.sk-parallel-item::before {content: \"\";position: absolute;border-left: 1px solid gray;box-sizing: border-box;top: 0;bottom: 0;left: 50%;z-index: -1;}#sk-container-id-2 div.sk-parallel-item {display: flex;flex-direction: column;z-index: 1;position: relative;background-color: white;}#sk-container-id-2 div.sk-parallel-item:first-child::after {align-self: flex-end;width: 50%;}#sk-container-id-2 div.sk-parallel-item:last-child::after {align-self: flex-start;width: 50%;}#sk-container-id-2 div.sk-parallel-item:only-child::after {width: 0;}#sk-container-id-2 div.sk-dashed-wrapped {border: 1px dashed gray;margin: 0 0.4em 0.5em 0.4em;box-sizing: border-box;padding-bottom: 0.4em;background-color: white;}#sk-container-id-2 div.sk-label label {font-family: monospace;font-weight: bold;display: inline-block;line-height: 1.2em;}#sk-container-id-2 div.sk-label-container {text-align: center;}#sk-container-id-2 div.sk-container {/* jupyter's `normalize.less` sets `[hidden] { display: none; }` but bootstrap.min.css set `[hidden] { display: none !important; }` so we also need the `!important` here to be able to override the default hidden behavior on the sphinx rendered scikit-learn.org. See: https://github.com/scikit-learn/scikit-learn/issues/21755 */display: inline-block !important;position: relative;}#sk-container-id-2 div.sk-text-repr-fallback {display: none;}</style><div id=\"sk-container-id-2\" class=\"sk-top-container\"><div class=\"sk-text-repr-fallback\"><pre>RandomizedSearchCV(estimator=XGBClassifier(base_score=None, booster=None,\n",
       "                                           callbacks=None,\n",
       "                                           colsample_bylevel=None,\n",
       "                                           colsample_bynode=None,\n",
       "                                           colsample_bytree=None,\n",
       "                                           early_stopping_rounds=None,\n",
       "                                           enable_categorical=False,\n",
       "                                           eval_metric=None, feature_types=None,\n",
       "                                           gamma=None, gpu_id=None,\n",
       "                                           grow_policy=None,\n",
       "                                           importance_type=None,\n",
       "                                           interaction_constraints=None,\n",
       "                                           learning_rate=None...\n",
       "                                           max_cat_threshold=None,\n",
       "                                           max_cat_to_onehot=None,\n",
       "                                           max_delta_step=None, max_depth=None,\n",
       "                                           max_leaves=None,\n",
       "                                           min_child_weight=None, missing=nan,\n",
       "                                           monotone_constraints=None,\n",
       "                                           n_estimators=100, n_jobs=None,\n",
       "                                           num_parallel_tree=None,\n",
       "                                           predictor=None, random_state=None, ...),\n",
       "                   n_iter=15, n_jobs=-1,\n",
       "                   param_distributions={&#x27;colsample_bytree&#x27;: array([0.1, 0.4, 0.7, 1. ]),\n",
       "                                        &#x27;max_depth&#x27;: array([1, 2, 3, 4, 5, 6])})</pre><b>In a Jupyter environment, please rerun this cell to show the HTML representation or trust the notebook. <br />On GitHub, the HTML representation is unable to render, please try loading this page with nbviewer.org.</b></div><div class=\"sk-container\" hidden><div class=\"sk-item sk-dashed-wrapped\"><div class=\"sk-label-container\"><div class=\"sk-label sk-toggleable\"><input class=\"sk-toggleable__control sk-hidden--visually\" id=\"sk-estimator-id-2\" type=\"checkbox\" ><label for=\"sk-estimator-id-2\" class=\"sk-toggleable__label sk-toggleable__label-arrow\">RandomizedSearchCV</label><div class=\"sk-toggleable__content\"><pre>RandomizedSearchCV(estimator=XGBClassifier(base_score=None, booster=None,\n",
       "                                           callbacks=None,\n",
       "                                           colsample_bylevel=None,\n",
       "                                           colsample_bynode=None,\n",
       "                                           colsample_bytree=None,\n",
       "                                           early_stopping_rounds=None,\n",
       "                                           enable_categorical=False,\n",
       "                                           eval_metric=None, feature_types=None,\n",
       "                                           gamma=None, gpu_id=None,\n",
       "                                           grow_policy=None,\n",
       "                                           importance_type=None,\n",
       "                                           interaction_constraints=None,\n",
       "                                           learning_rate=None...\n",
       "                                           max_cat_threshold=None,\n",
       "                                           max_cat_to_onehot=None,\n",
       "                                           max_delta_step=None, max_depth=None,\n",
       "                                           max_leaves=None,\n",
       "                                           min_child_weight=None, missing=nan,\n",
       "                                           monotone_constraints=None,\n",
       "                                           n_estimators=100, n_jobs=None,\n",
       "                                           num_parallel_tree=None,\n",
       "                                           predictor=None, random_state=None, ...),\n",
       "                   n_iter=15, n_jobs=-1,\n",
       "                   param_distributions={&#x27;colsample_bytree&#x27;: array([0.1, 0.4, 0.7, 1. ]),\n",
       "                                        &#x27;max_depth&#x27;: array([1, 2, 3, 4, 5, 6])})</pre></div></div></div><div class=\"sk-parallel\"><div class=\"sk-parallel-item\"><div class=\"sk-item\"><div class=\"sk-label-container\"><div class=\"sk-label sk-toggleable\"><input class=\"sk-toggleable__control sk-hidden--visually\" id=\"sk-estimator-id-3\" type=\"checkbox\" ><label for=\"sk-estimator-id-3\" class=\"sk-toggleable__label sk-toggleable__label-arrow\">estimator: XGBClassifier</label><div class=\"sk-toggleable__content\"><pre>XGBClassifier(base_score=None, booster=None, callbacks=None,\n",
       "              colsample_bylevel=None, colsample_bynode=None,\n",
       "              colsample_bytree=None, early_stopping_rounds=None,\n",
       "              enable_categorical=False, eval_metric=None, feature_types=None,\n",
       "              gamma=None, gpu_id=None, grow_policy=None, importance_type=None,\n",
       "              interaction_constraints=None, learning_rate=None, max_bin=None,\n",
       "              max_cat_threshold=None, max_cat_to_onehot=None,\n",
       "              max_delta_step=None, max_depth=None, max_leaves=None,\n",
       "              min_child_weight=None, missing=nan, monotone_constraints=None,\n",
       "              n_estimators=100, n_jobs=None, num_parallel_tree=None,\n",
       "              predictor=None, random_state=None, ...)</pre></div></div></div><div class=\"sk-serial\"><div class=\"sk-item\"><div class=\"sk-estimator sk-toggleable\"><input class=\"sk-toggleable__control sk-hidden--visually\" id=\"sk-estimator-id-4\" type=\"checkbox\" ><label for=\"sk-estimator-id-4\" class=\"sk-toggleable__label sk-toggleable__label-arrow\">XGBClassifier</label><div class=\"sk-toggleable__content\"><pre>XGBClassifier(base_score=None, booster=None, callbacks=None,\n",
       "              colsample_bylevel=None, colsample_bynode=None,\n",
       "              colsample_bytree=None, early_stopping_rounds=None,\n",
       "              enable_categorical=False, eval_metric=None, feature_types=None,\n",
       "              gamma=None, gpu_id=None, grow_policy=None, importance_type=None,\n",
       "              interaction_constraints=None, learning_rate=None, max_bin=None,\n",
       "              max_cat_threshold=None, max_cat_to_onehot=None,\n",
       "              max_delta_step=None, max_depth=None, max_leaves=None,\n",
       "              min_child_weight=None, missing=nan, monotone_constraints=None,\n",
       "              n_estimators=100, n_jobs=None, num_parallel_tree=None,\n",
       "              predictor=None, random_state=None, ...)</pre></div></div></div></div></div></div></div></div></div></div>"
      ],
      "text/plain": [
       "RandomizedSearchCV(estimator=XGBClassifier(base_score=None, booster=None,\n",
       "                                           callbacks=None,\n",
       "                                           colsample_bylevel=None,\n",
       "                                           colsample_bynode=None,\n",
       "                                           colsample_bytree=None,\n",
       "                                           early_stopping_rounds=None,\n",
       "                                           enable_categorical=False,\n",
       "                                           eval_metric=None, feature_types=None,\n",
       "                                           gamma=None, gpu_id=None,\n",
       "                                           grow_policy=None,\n",
       "                                           importance_type=None,\n",
       "                                           interaction_constraints=None,\n",
       "                                           learning_rate=None...\n",
       "                                           max_cat_threshold=None,\n",
       "                                           max_cat_to_onehot=None,\n",
       "                                           max_delta_step=None, max_depth=None,\n",
       "                                           max_leaves=None,\n",
       "                                           min_child_weight=None, missing=nan,\n",
       "                                           monotone_constraints=None,\n",
       "                                           n_estimators=100, n_jobs=None,\n",
       "                                           num_parallel_tree=None,\n",
       "                                           predictor=None, random_state=None, ...),\n",
       "                   n_iter=15, n_jobs=-1,\n",
       "                   param_distributions={'colsample_bytree': array([0.1, 0.4, 0.7, 1. ]),\n",
       "                                        'max_depth': array([1, 2, 3, 4, 5, 6])})"
      ]
     },
     "execution_count": 43,
     "metadata": {},
     "output_type": "execute_result"
    }
   ],
   "source": [
    "random_search.fit(X_train_stats,y_train_binary)"
   ]
  },
  {
   "cell_type": "code",
   "execution_count": 44,
   "id": "9e2e7d19-8519-457b-b97a-bbbe1ed54b2f",
   "metadata": {},
   "outputs": [
    {
     "data": {
      "text/plain": [
       "(0.8484848484848485, 0.8044624746450304)"
      ]
     },
     "execution_count": 44,
     "metadata": {},
     "output_type": "execute_result"
    }
   ],
   "source": [
    "random_search.score(X_train_stats,y_train_binary),random_search.score(X_test_stats,y_test_binary)"
   ]
  },
  {
   "cell_type": "code",
   "execution_count": 45,
   "id": "b0a8e86d-293e-43e3-bbe5-b34f494729c3",
   "metadata": {},
   "outputs": [
    {
     "name": "stdout",
     "output_type": "stream",
     "text": [
      "Model with rank: 1\n",
      "Mean validation score: 0.798 (std: 0.014)\n",
      "Parameters: {'max_depth': 4, 'colsample_bytree': 0.4}\n",
      "\n",
      "Model with rank: 2\n",
      "Mean validation score: 0.798 (std: 0.011)\n",
      "Parameters: {'max_depth': 5, 'colsample_bytree': 0.4}\n",
      "\n",
      "Model with rank: 3\n",
      "Mean validation score: 0.797 (std: 0.011)\n",
      "Parameters: {'max_depth': 2, 'colsample_bytree': 1.0}\n",
      "\n"
     ]
    }
   ],
   "source": [
    "report(random_search.cv_results_)"
   ]
  },
  {
   "cell_type": "markdown",
   "id": "cf65467e-fade-4534-b3c0-0f9d2199064f",
   "metadata": {},
   "source": [
    "After randomized search, while overfitting decreases there is little change in the test set performance.  As seen by the report, there are substantial attempts to reduce overfitting.  On the whole, these text statistics bring us  around 37.5% of the way to complete predictive power."
   ]
  },
  {
   "cell_type": "code",
   "execution_count": 46,
   "id": "0791b3fc-1a2e-451c-b1d1-1a8554df9487",
   "metadata": {},
   "outputs": [],
   "source": [
    "from sklearn.metrics import confusion_matrix\n",
    "from sklearn.metrics import ConfusionMatrixDisplay"
   ]
  },
  {
   "cell_type": "code",
   "execution_count": 47,
   "id": "5d2a7866-7a56-44e1-a824-6b29d41a9558",
   "metadata": {},
   "outputs": [
    {
     "data": {
      "image/png": "[encoded data removed]",
      "text/plain": [
       "<Figure size 432x288 with 2 Axes>"
      ]
     },
     "metadata": {
      "needs_background": "light"
     },
     "output_type": "display_data"
    }
   ],
   "source": [
    "cmd = ConfusionMatrixDisplay(confusion_matrix(y_test_binary, \n",
    "random_search.predict(X_test_stats)),display_labels=['science','technology'],)\n",
    "cmd.plot(cmap = 'Blues')\n",
    "plt.title(label = 'CM -- predictions on statistics')\n",
    "plt.savefig('./visuals/cm-- predictions')"
   ]
  },
  {
   "cell_type": "code",
   "execution_count": 48,
   "id": "16ebdb47-2d08-40bd-b3b3-56bae53d8886",
   "metadata": {
    "tags": []
   },
   "outputs": [],
   "source": [
    "importance = random_search.best_estimator_.feature_importances_"
   ]
  },
  {
   "cell_type": "code",
   "execution_count": 49,
   "id": "1db54ea8-8216-4f78-b0d0-263b05e8824a",
   "metadata": {
    "tags": []
   },
   "outputs": [],
   "source": [
    "names = random_search.best_estimator_.get_booster().feature_names"
   ]
  },
  {
   "cell_type": "code",
   "execution_count": 50,
   "id": "9023142a-44ce-4820-91ef-c5687bbac10d",
   "metadata": {},
   "outputs": [],
   "source": [
    "def feature_importance_graph(names, importance):\n",
    "    df = pd.DataFrame.from_dict(dict(zip(names,importance)),columns = ['importance'], orient = 'index')\n",
    "    df = df.sort_values(by = 'importance', ascending = False)\n",
    "    \n",
    "    sns.barplot(x = df[0:10].importance, y = df[0:10].index , color = \\\n",
    "                'lightblue').set(xlabel= 'Feature importance', ylabel = 'Feature', title = 'Top 10 Features by Importance')\n",
    "    plt.xticks(rotation=15)\n",
    "    return df"
   ]
  },
  {
   "cell_type": "code",
   "execution_count": 51,
   "id": "012d82fc-e15f-4938-8a0c-23b0983ec597",
   "metadata": {},
   "outputs": [
    {
     "data": {
      "image/png": "[encoded data removed]",
      "text/plain": [
       "<Figure size 432x288 with 1 Axes>"
      ]
     },
     "metadata": {
      "needs_background": "light"
     },
     "output_type": "display_data"
    }
   ],
   "source": [
    "f_i = feature_importance_graph(names, importance)\n",
    "plt.savefig('./visuals/fi-- stats')"
   ]
  },
  {
   "cell_type": "markdown",
   "id": "dcb393ba-1aec-4052-9d0d-798bea817cf9",
   "metadata": {},
   "source": [
    "Above, we can see that after [deciphering](https://machinelearningknowledge.ai/tutorial-on-spacy-part-of-speech-pos-tagging/#:~:text=Spacy%20provides%20a%20bunch%20of,is%20most%20likely%20a%20noun.) the spacy pos tags, personal pronouns and adjectives top the list of feature importances."
   ]
  },
  {
   "cell_type": "markdown",
   "id": "66dc8f41-3399-45f3-a7ee-03eafa89d0ca",
   "metadata": {},
   "source": [
    "I'll attempt to create a graph of the mean occurence of the most common features "
   ]
  },
  {
   "cell_type": "code",
   "execution_count": 52,
   "id": "ab81b2f0-76a4-44a4-99f1-90657bbb0ec3",
   "metadata": {},
   "outputs": [],
   "source": [
    "X_train_stats_graphing = X_train_stats\n",
    "X_train_stats_graphing['subreddit'] = y_train\n",
    "top_10 = X_train_stats_graphing.groupby('subreddit').mean()[f_i.index][0:10]"
   ]
  },
  {
   "cell_type": "code",
   "execution_count": 54,
   "id": "798ee096-3865-47a3-bf08-8bc6043e5b63",
   "metadata": {},
   "outputs": [
    {
     "data": {
      "image/png": "[encoded data removed]",
      "text/plain": [
       "<Figure size 432x288 with 1 Axes>"
      ]
     },
     "metadata": {
      "needs_background": "light"
     },
     "output_type": "display_data"
    }
   ],
   "source": [
    "top_10.loc['sci/tech'] = top_10.loc['science']/top_10.loc['technology']\n",
    "sns.barplot(x=top_10.loc['sci/tech'][0:10],y =top_10.columns[0:10],\n",
    "            color='lightblue').set(ylabel='feature', \n",
    "                                   title = 'Ratio of Feature Means (Sci/Tech)')\n",
    "plt.ylabel('feature')\n",
    "plt.savefig('./visuals/stats_ratios')"
   ]
  },
  {
   "cell_type": "markdown",
   "id": "084ebc55-1f46-4fe9-bf63-00e2a20b12be",
   "metadata": {},
   "source": [
    "Above, we see that Adjectives are more than twice as frequent in science compared to technology."
   ]
  },
  {
   "cell_type": "markdown",
   "id": "4cbd3c6b-32a4-4a7b-a334-5aa8a463b0e3",
   "metadata": {
    "tags": []
   },
   "source": [
    "###### Modeling on the titles"
   ]
  },
  {
   "cell_type": "code",
   "execution_count": 55,
   "id": "d56a19af-7f62-4714-a716-f2e8f7509c7f",
   "metadata": {},
   "outputs": [],
   "source": [
    "tfidf_vec = TfidfVectorizer(stop_words='english', max_features=1_000,\n",
    "                             ngram_range=(1,2))\n",
    "logreg = LogisticRegression(penalty='elasticnet', max_iter=10_000, \\\n",
    "                            random_state=1)"
   ]
  },
  {
   "cell_type": "code",
   "execution_count": 56,
   "id": "47eed92c-3ef1-453e-97b0-a34b4d15550c",
   "metadata": {},
   "outputs": [],
   "source": [
    "tfidf_lr_params = {\"logreg__C\": [.1,1,10],\n",
    "                    \"logreg__l1_ratio\": [.1,.5,.9],\n",
    "                   'tfidf_vec__max_df': [.9,.95,1.0],\n",
    "                   'tfidf_vec__min_df': [.001,.003]}"
   ]
  },
  {
   "cell_type": "code",
   "execution_count": 57,
   "id": "ec7b4017-99fe-4e29-a162-4e964e3fafdb",
   "metadata": {},
   "outputs": [],
   "source": [
    "\n",
    "tfidf_lr_pipe = Pipeline([\n",
    "    ('tfidf_vec', tfidf_vec),\n",
    "    ('logreg', LogisticRegression(penalty='none', max_iter=10_000, random_state=33))\n",
    "])"
   ]
  },
  {
   "cell_type": "code",
   "execution_count": 58,
   "id": "3339779c-8b52-4de7-be6e-6c2aa940666f",
   "metadata": {},
   "outputs": [
    {
     "data": {
      "text/html": [
       "<style>#sk-container-id-3 {color: black;background-color: white;}#sk-container-id-3 pre{padding: 0;}#sk-container-id-3 div.sk-toggleable {background-color: white;}#sk-container-id-3 label.sk-toggleable__label {cursor: pointer;display: block;width: 100%;margin-bottom: 0;padding: 0.3em;box-sizing: border-box;text-align: center;}#sk-container-id-3 label.sk-toggleable__label-arrow:before {content: \"▸\";float: left;margin-right: 0.25em;color: #696969;}#sk-container-id-3 label.sk-toggleable__label-arrow:hover:before {color: black;}#sk-container-id-3 div.sk-estimator:hover label.sk-toggleable__label-arrow:before {color: black;}#sk-container-id-3 div.sk-toggleable__content {max-height: 0;max-width: 0;overflow: hidden;text-align: left;background-color: #f0f8ff;}#sk-container-id-3 div.sk-toggleable__content pre {margin: 0.2em;color: black;border-radius: 0.25em;background-color: #f0f8ff;}#sk-container-id-3 input.sk-toggleable__control:checked~div.sk-toggleable__content {max-height: 200px;max-width: 100%;overflow: auto;}#sk-container-id-3 input.sk-toggleable__control:checked~label.sk-toggleable__label-arrow:before {content: \"▾\";}#sk-container-id-3 div.sk-estimator input.sk-toggleable__control:checked~label.sk-toggleable__label {background-color: #d4ebff;}#sk-container-id-3 div.sk-label input.sk-toggleable__control:checked~label.sk-toggleable__label {background-color: #d4ebff;}#sk-container-id-3 input.sk-hidden--visually {border: 0;clip: rect(1px 1px 1px 1px);clip: rect(1px, 1px, 1px, 1px);height: 1px;margin: -1px;overflow: hidden;padding: 0;position: absolute;width: 1px;}#sk-container-id-3 div.sk-estimator {font-family: monospace;background-color: #f0f8ff;border: 1px dotted black;border-radius: 0.25em;box-sizing: border-box;margin-bottom: 0.5em;}#sk-container-id-3 div.sk-estimator:hover {background-color: #d4ebff;}#sk-container-id-3 div.sk-parallel-item::after {content: \"\";width: 100%;border-bottom: 1px solid gray;flex-grow: 1;}#sk-container-id-3 div.sk-label:hover label.sk-toggleable__label {background-color: #d4ebff;}#sk-container-id-3 div.sk-serial::before {content: \"\";position: absolute;border-left: 1px solid gray;box-sizing: border-box;top: 0;bottom: 0;left: 50%;z-index: 0;}#sk-container-id-3 div.sk-serial {display: flex;flex-direction: column;align-items: center;background-color: white;padding-right: 0.2em;padding-left: 0.2em;position: relative;}#sk-container-id-3 div.sk-item {position: relative;z-index: 1;}#sk-container-id-3 div.sk-parallel {display: flex;align-items: stretch;justify-content: center;background-color: white;position: relative;}#sk-container-id-3 div.sk-item::before, #sk-container-id-3 div.sk-parallel-item::before {content: \"\";position: absolute;border-left: 1px solid gray;box-sizing: border-box;top: 0;bottom: 0;left: 50%;z-index: -1;}#sk-container-id-3 div.sk-parallel-item {display: flex;flex-direction: column;z-index: 1;position: relative;background-color: white;}#sk-container-id-3 div.sk-parallel-item:first-child::after {align-self: flex-end;width: 50%;}#sk-container-id-3 div.sk-parallel-item:last-child::after {align-self: flex-start;width: 50%;}#sk-container-id-3 div.sk-parallel-item:only-child::after {width: 0;}#sk-container-id-3 div.sk-dashed-wrapped {border: 1px dashed gray;margin: 0 0.4em 0.5em 0.4em;box-sizing: border-box;padding-bottom: 0.4em;background-color: white;}#sk-container-id-3 div.sk-label label {font-family: monospace;font-weight: bold;display: inline-block;line-height: 1.2em;}#sk-container-id-3 div.sk-label-container {text-align: center;}#sk-container-id-3 div.sk-container {/* jupyter's `normalize.less` sets `[hidden] { display: none; }` but bootstrap.min.css set `[hidden] { display: none !important; }` so we also need the `!important` here to be able to override the default hidden behavior on the sphinx rendered scikit-learn.org. See: https://github.com/scikit-learn/scikit-learn/issues/21755 */display: inline-block !important;position: relative;}#sk-container-id-3 div.sk-text-repr-fallback {display: none;}</style><div id=\"sk-container-id-3\" class=\"sk-top-container\"><div class=\"sk-text-repr-fallback\"><pre>Pipeline(steps=[(&#x27;tfidf_vec&#x27;,\n",
       "                 TfidfVectorizer(max_features=1000, ngram_range=(1, 2),\n",
       "                                 stop_words=&#x27;english&#x27;)),\n",
       "                (&#x27;logreg&#x27;,\n",
       "                 LogisticRegression(max_iter=10000, penalty=&#x27;none&#x27;,\n",
       "                                    random_state=33))])</pre><b>In a Jupyter environment, please rerun this cell to show the HTML representation or trust the notebook. <br />On GitHub, the HTML representation is unable to render, please try loading this page with nbviewer.org.</b></div><div class=\"sk-container\" hidden><div class=\"sk-item sk-dashed-wrapped\"><div class=\"sk-label-container\"><div class=\"sk-label sk-toggleable\"><input class=\"sk-toggleable__control sk-hidden--visually\" id=\"sk-estimator-id-5\" type=\"checkbox\" ><label for=\"sk-estimator-id-5\" class=\"sk-toggleable__label sk-toggleable__label-arrow\">Pipeline</label><div class=\"sk-toggleable__content\"><pre>Pipeline(steps=[(&#x27;tfidf_vec&#x27;,\n",
       "                 TfidfVectorizer(max_features=1000, ngram_range=(1, 2),\n",
       "                                 stop_words=&#x27;english&#x27;)),\n",
       "                (&#x27;logreg&#x27;,\n",
       "                 LogisticRegression(max_iter=10000, penalty=&#x27;none&#x27;,\n",
       "                                    random_state=33))])</pre></div></div></div><div class=\"sk-serial\"><div class=\"sk-item\"><div class=\"sk-estimator sk-toggleable\"><input class=\"sk-toggleable__control sk-hidden--visually\" id=\"sk-estimator-id-6\" type=\"checkbox\" ><label for=\"sk-estimator-id-6\" class=\"sk-toggleable__label sk-toggleable__label-arrow\">TfidfVectorizer</label><div class=\"sk-toggleable__content\"><pre>TfidfVectorizer(max_features=1000, ngram_range=(1, 2), stop_words=&#x27;english&#x27;)</pre></div></div></div><div class=\"sk-item\"><div class=\"sk-estimator sk-toggleable\"><input class=\"sk-toggleable__control sk-hidden--visually\" id=\"sk-estimator-id-7\" type=\"checkbox\" ><label for=\"sk-estimator-id-7\" class=\"sk-toggleable__label sk-toggleable__label-arrow\">LogisticRegression</label><div class=\"sk-toggleable__content\"><pre>LogisticRegression(max_iter=10000, penalty=&#x27;none&#x27;, random_state=33)</pre></div></div></div></div></div></div></div>"
      ],
      "text/plain": [
       "Pipeline(steps=[('tfidf_vec',\n",
       "                 TfidfVectorizer(max_features=1000, ngram_range=(1, 2),\n",
       "                                 stop_words='english')),\n",
       "                ('logreg',\n",
       "                 LogisticRegression(max_iter=10000, penalty='none',\n",
       "                                    random_state=33))])"
      ]
     },
     "execution_count": 58,
     "metadata": {},
     "output_type": "execute_result"
    }
   ],
   "source": [
    "tfidf_lr_pipe.fit(X_train_lemmatized, y_train_binary)"
   ]
  },
  {
   "cell_type": "code",
   "execution_count": 59,
   "id": "25a2254e-4e35-40e4-baa2-d563dd8b6675",
   "metadata": {},
   "outputs": [
    {
     "data": {
      "text/plain": [
       "0.8567951318458418"
      ]
     },
     "execution_count": 59,
     "metadata": {},
     "output_type": "execute_result"
    }
   ],
   "source": [
    "tfidf_lr_pipe.score(X_test_lemmatized, y_test_binary)"
   ]
  },
  {
   "cell_type": "code",
   "execution_count": 60,
   "id": "eb4c7e2b-4641-49fc-b0d2-de767ec16e30",
   "metadata": {},
   "outputs": [],
   "source": [
    "gs_tfidf_lr = GridSearchCV(tfidf_lr_pipe,tfidf_lr_params)"
   ]
  },
  {
   "cell_type": "code",
   "execution_count": null,
   "id": "c5210613-9d4a-4006-b35e-0dd5aa0e1a31",
   "metadata": {
    "tags": []
   },
   "outputs": [
    {
     "name": "stderr",
     "output_type": "stream",
     "text": [
      "/Users/william/opt/anaconda3/lib/python3.9/site-packages/sklearn/linear_model/_logistic.py:1106: UserWarning: l1_ratio parameter is only used when penalty is 'elasticnet'. Got (penalty=none)\n",
      "  warnings.warn(\n",
      "/Users/william/opt/anaconda3/lib/python3.9/site-packages/sklearn/linear_model/_logistic.py:1113: UserWarning: Setting penalty='none' will ignore the C and l1_ratio parameters\n",
      "  warnings.warn(\n",
      "/Users/william/opt/anaconda3/lib/python3.9/site-packages/sklearn/linear_model/_logistic.py:1106: UserWarning: l1_ratio parameter is only used when penalty is 'elasticnet'. Got (penalty=none)\n",
      "  warnings.warn(\n",
      "/Users/william/opt/anaconda3/lib/python3.9/site-packages/sklearn/linear_model/_logistic.py:1113: UserWarning: Setting penalty='none' will ignore the C and l1_ratio parameters\n",
      "  warnings.warn(\n",
      "/Users/william/opt/anaconda3/lib/python3.9/site-packages/sklearn/linear_model/_logistic.py:1106: UserWarning: l1_ratio parameter is only used when penalty is 'elasticnet'. Got (penalty=none)\n",
      "  warnings.warn(\n",
      "/Users/william/opt/anaconda3/lib/python3.9/site-packages/sklearn/linear_model/_logistic.py:1113: UserWarning: Setting penalty='none' will ignore the C and l1_ratio parameters\n",
      "  warnings.warn(\n",
      "/Users/william/opt/anaconda3/lib/python3.9/site-packages/sklearn/linear_model/_logistic.py:1106: UserWarning: l1_ratio parameter is only used when penalty is 'elasticnet'. Got (penalty=none)\n",
      "  warnings.warn(\n",
      "/Users/william/opt/anaconda3/lib/python3.9/site-packages/sklearn/linear_model/_logistic.py:1113: UserWarning: Setting penalty='none' will ignore the C and l1_ratio parameters\n",
      "  warnings.warn(\n"
     ]
    }
   ],
   "source": [
    "gs_tfidf_lr.fit(X_train_lemmatized,y_train)"
   ]
  },
  {
   "cell_type": "code",
   "execution_count": null,
   "id": "638744e9-b422-4545-a8cc-618fc4f66c6d",
   "metadata": {},
   "outputs": [],
   "source": [
    "gs_tfidf_lr.score(X_train_lemmatized,y_train), gs_tfidf_lr.score(X_test_lemmatized,y_test)"
   ]
  },
  {
   "cell_type": "code",
   "execution_count": null,
   "id": "f7dfec12-cf66-474b-99b9-4fa8a589d370",
   "metadata": {},
   "outputs": [],
   "source": [
    "gs_tfidf_lr.best_params_"
   ]
  },
  {
   "cell_type": "markdown",
   "id": "1c2c4afc-11ba-4dc9-99f5-da2976f7dc53",
   "metadata": {},
   "source": [
    "\n",
    "tfidf_lr_params = {\"logreg__C\": [.1,1,10],\n",
    "                    \"logreg__l1_ratio\": [.1,.5,.9],\n",
    "                   'tfidf_vec__max_df': [.9,.95,1.0],\n",
    "                   'tfidf_vec__min_df': [.001,.003]}\n",
    "gs_tfidf_lr.best_params_ : {'logreg__C': 0.1,\n",
    " 'logreg__l1_ratio': 0.1,\n",
    " 'tfidf_vec__max_df': 0.9,\n",
    " 'tfidf_vec__min_df': 0.003}\n",
    "gs_tfidf_lr.score(X_test_lemmatized,y_test): 0.8584178498985802\n",
    "gs_tfidf_lr.score(X_train_lemmatized,y_train): 0.9013798701298701"
   ]
  },
  {
   "cell_type": "markdown",
   "id": "7051d31e-3485-4567-b763-27f981791034",
   "metadata": {},
   "source": [
    "Above, we see that the best logistic regression model delivers reasonable improvement with text analysis over the statistics based model."
   ]
  },
  {
   "cell_type": "code",
   "execution_count": null,
   "id": "899943ca-b704-48f0-a271-e42a812c7c40",
   "metadata": {},
   "outputs": [],
   "source": [
    "tfidf_xgb_pipe = Pipeline([\n",
    "    ('tfidf_vec', tfidf_vec),\n",
    "    ('xgb', xgboost.XGBClassifier())])\n",
    "tfidf_xgb_params = {\"xgb__eta\": [.01,.03],\n",
    "                    'xgb__booster': ['gbtree','gblinear'],\n",
    "                   'tfidf_vec__max_df': [.9,.95,1.0],\n",
    "                   'tfidf_vec__min_df': [.001,.003]}\n",
    "gs_tfidf_xgb = GridSearchCV(tfidf_xgb_pipe,tfidf_xgb_params)"
   ]
  },
  {
   "cell_type": "code",
   "execution_count": null,
   "id": "089f2df4-b070-41d4-b952-e54144905d28",
   "metadata": {},
   "outputs": [],
   "source": [
    "gs_tfidf_xgb.score(X_train_lemmatized,y_train_xgb),gs_tfidf_xgb.score(X_test_lemmatized,y_test_xgb)"
   ]
  },
  {
   "cell_type": "code",
   "execution_count": null,
   "id": "1efe6b7a-70e7-4011-adfb-002d44b1e235",
   "metadata": {},
   "outputs": [],
   "source": [
    "gs_tfidf_xgb = GridSearchCV(tfidf_xgb_pipe,{'tfidf_vec__max_df': [0.9],\n",
    " 'tfidf_vec__min_df': [0.001],\n",
    " 'xgb__booster': ['gblinear'],\n",
    " 'xgb__eta': [0.01]})\n"
   ]
  },
  {
   "cell_type": "code",
   "execution_count": null,
   "id": "05de9163-45ce-4d19-ad9e-23e64bc79144",
   "metadata": {},
   "outputs": [],
   "source": [
    "gs_tfidf_xgb.fit(X_train_lemmatized, y_train_binary)"
   ]
  },
  {
   "cell_type": "code",
   "execution_count": null,
   "id": "5b2488e5-7790-4ba5-a312-346ef75d74e8",
   "metadata": {},
   "outputs": [],
   "source": [
    "# gs_tfidf_xgb.fit(X_train_lemmatized,y_train_xgb)\n",
    "gs_tfidf_xgb.score(X_train_lemmatized,y_train_binary),gs_tfidf_xgb.score(X_test_lemmatized,y_test_binary)"
   ]
  },
  {
   "cell_type": "code",
   "execution_count": null,
   "id": "f0f4d542-2ab3-4714-b899-885315b2d8e5",
   "metadata": {},
   "outputs": [],
   "source": [
    "gs_tfidf_xgb.best_params_"
   ]
  },
  {
   "cell_type": "markdown",
   "id": "03ee304b-b760-4f17-89d0-0879be42afdd",
   "metadata": {},
   "source": [
    "param choices:\n",
    "tfidf_xgb_params = {\"xgb__eta\": [.01,.03],\n",
    "                    'xgb__booster': ['gbtree','gblinear'],\n",
    "                   'tfidf_vec__max_df': [.9,.95,1.0],\n",
    "                   'tfidf_vec__min_df': [.001,.003]}\n",
    "score: \n",
    "\n",
    "(0.9143668831168831, 0.8892494929006085)\n",
    "\n",
    "gs_tfidf_xgb.best_params_ :\n",
    "\n",
    "{'tfidf_vec__max_df': 0.9,\n",
    " 'tfidf_vec__min_df': 0.001,\n",
    " 'xgb__booster': 'gblinear',\n",
    " 'xgb__eta': 0.01}\n",
    " "
   ]
  },
  {
   "cell_type": "markdown",
   "id": "4c91353e-fd36-42e9-bfb5-74b1dd12c877",
   "metadata": {},
   "source": [
    "So far xgboost has provided the best predictions on the test set"
   ]
  },
  {
   "cell_type": "markdown",
   "id": "90c62d54-be9f-49a6-b916-60afc6b79290",
   "metadata": {},
   "source": [
    "Above, we see that the titles have more predictive value alone than do the statistics. "
   ]
  },
  {
   "cell_type": "markdown",
   "id": "eec72988-b07d-4acc-9771-4d9d710c9ab1",
   "metadata": {
    "tags": []
   },
   "source": [
    "###### stacked models"
   ]
  },
  {
   "cell_type": "code",
   "execution_count": null,
   "id": "81ca38f4-1493-4489-b1e1-1342c12c4b7a",
   "metadata": {},
   "outputs": [],
   "source": [
    "tfidf_vec = TfidfVectorizer(stop_words='english', max_features=1_000,\n",
    "                             ngram_range=(1,2), max_df= 0.925, min_df= 0.001)\n",
    "\n",
    "title_pipe = Pipeline([\n",
    "    ('tfidf_vec', tfidf_vec),\n",
    "    ('xgb', xgboost.XGBClassifier(booster= 'gblinear',eta= 0.01))])\n",
    "\n",
    "title_pipe.fit(X_train_lemmatized, y_train_binary)\n",
    "title_pipe.score(X_train_lemmatized, y_train_binary), title_pipe.score(X_test_lemmatized, y_test_binary)"
   ]
  },
  {
   "cell_type": "code",
   "execution_count": null,
   "id": "66b3d593-1a8c-4335-a30c-9e2572094867",
   "metadata": {},
   "outputs": [],
   "source": [
    "X_train_stats.drop(columns='subreddit', inplace= True)"
   ]
  },
  {
   "cell_type": "code",
   "execution_count": null,
   "id": "00974abe-8fb8-47c8-9afe-6da8b002ae1b",
   "metadata": {
    "tags": []
   },
   "outputs": [],
   "source": [
    "# Fit models\n",
    "rf_stats = RandomForestClassifier()\n",
    "\n",
    "# Instantiate pipes\n",
    "# stats\n",
    "rf_stats.fit(X_train_stats, y_train_binary)\n",
    "\n",
    "# title\n",
    "title_pipe.fit(X_train_lemmatized, y_train_binary)"
   ]
  },
  {
   "cell_type": "code",
   "execution_count": null,
   "id": "4a782b17-3c4d-4a73-8853-5a3d86abe65f",
   "metadata": {
    "tags": []
   },
   "outputs": [],
   "source": [
    "X_pred_train = pd.DataFrame()\n",
    "X_pred_train['stats'] = cross_val_predict(xgb_stats, X_train_stats, y_train_binary)\n",
    "X_pred_train['title'] = cross_val_predict(title_pipe, X_train_lemmatized, y_train_binary)"
   ]
  },
  {
   "cell_type": "code",
   "execution_count": null,
   "id": "ce55bb31-6b75-447b-9730-3124a6751d41",
   "metadata": {},
   "outputs": [],
   "source": [
    "# Level 2 model: Logistic Regression\n",
    "lev2_logreg = LogisticRegressionCV()"
   ]
  },
  {
   "cell_type": "code",
   "execution_count": null,
   "id": "1d24f019-29b8-470c-867a-75083e7c273d",
   "metadata": {},
   "outputs": [],
   "source": [
    "lev2_logreg.fit(X_pred_train, y_train_binary)"
   ]
  },
  {
   "cell_type": "code",
   "execution_count": null,
   "id": "ed291485-ece9-4464-aba2-a834abc66479",
   "metadata": {},
   "outputs": [],
   "source": [
    "lev2_logreg.score(X_pred_train,y_train_binary)"
   ]
  },
  {
   "cell_type": "markdown",
   "id": "5009d68a-265d-473c-8e97-b2091bfab46b",
   "metadata": {},
   "source": [
    "Conclusion: this form of stacking as led to worse results than seen with just the model fitted on the title data.  I will next attempt to use a column transformer to combine the title and stats data into one dataset."
   ]
  },
  {
   "cell_type": "markdown",
   "id": "ae572653-26cf-493d-889a-0bda91b41151",
   "metadata": {},
   "source": [
    "[source: strip characters from string in series](https://stackoverflow.com/questions/13682044/remove-unwanted-parts-from-strings-in-a-column)\n",
    "[source: remove punctuation](https://www.google.com/search?q=how+to+replace+punctuation+with+regular+expression+python&rlz=1C5CHFA_enUS983US983&oq=how+to+replace+punctuation+with+regular&aqs=chrome.1.69i57j33i160l2.10574j0j7&sourceid=chrome&ie=UTF-8#kpvalbx=_7SabY4OANaSs0PEP042roAM_32)"
   ]
  },
  {
   "cell_type": "markdown",
   "id": "15e8f840-7a2a-4d1c-af13-66e358789af5",
   "metadata": {
    "tags": []
   },
   "source": [
    "###### Column transforming pipeline to generate final model"
   ]
  },
  {
   "cell_type": "code",
   "execution_count": null,
   "id": "0bfd496b-c4ce-460a-a4df-8f42878e7a9d",
   "metadata": {},
   "outputs": [],
   "source": [
    "from sklearn.compose import ColumnTransformer"
   ]
  },
  {
   "cell_type": "code",
   "execution_count": null,
   "id": "abc53861-197c-43e0-81d6-e9fe988bba36",
   "metadata": {},
   "outputs": [],
   "source": [
    "X_train_full = pd.concat([X_train_lemmatized.rename('title'), X_train_stats], axis = 1)\n",
    "X_test_full = pd.concat([X_test_lemmatized.rename('title'), X_test_stats], axis = 1)"
   ]
  },
  {
   "cell_type": "code",
   "execution_count": null,
   "id": "4c124522-b15a-433b-a669-c6d8181fda73",
   "metadata": {
    "tags": []
   },
   "outputs": [],
   "source": [
    "X_train_full"
   ]
  },
  {
   "cell_type": "code",
   "execution_count": null,
   "id": "680fa07f-a3c7-42b2-afa3-e68f96b818f9",
   "metadata": {},
   "outputs": [],
   "source": [
    "from sklearn.preprocessing import PolynomialFeatures "
   ]
  },
  {
   "cell_type": "code",
   "execution_count": null,
   "id": "75e47bbb-ff71-43fa-9cff-fb10fb10321f",
   "metadata": {},
   "outputs": [],
   "source": [
    "tfidf_vec = TfidfVectorizer(stop_words='english', max_features=1000,ngram_range=(1,2))\n",
    "\n",
    "text_transformer = tfidf_vec\n",
    "\n",
    "numeric_transformer = Pipeline(\n",
    "    steps = [('scaler',StandardScaler()),\n",
    "             ('polynomial', PolynomialFeatures(degree=2, interaction_only=True))\n",
    "            ]\n",
    ")\n",
    "text_features = 'title'\n",
    "numeric_features = X_train_full.columns[1:].values\n",
    "\n",
    "preprocessor = ColumnTransformer(\n",
    "    transformers=[\n",
    "    ('txt', text_transformer, text_features),\n",
    "    ('num', numeric_transformer, numeric_features)\n",
    "    ]\n",
    ")"
   ]
  },
  {
   "cell_type": "code",
   "execution_count": null,
   "id": "fd09aabf-c7ea-4f4c-aa7a-094337f42869",
   "metadata": {},
   "outputs": [],
   "source": []
  },
  {
   "cell_type": "code",
   "execution_count": null,
   "id": "61fceb09-6610-4e38-8960-276e1518b808",
   "metadata": {
    "tags": []
   },
   "outputs": [],
   "source": [
    "clf = Pipeline(\n",
    "    steps = [('preprocessor', preprocessor), ('classifier', xgboost.XGBClassifier(booster = 'gblinear', eta = .01))]\n",
    ")\n",
    "clf.fit (X_train_full, y_train_binary)"
   ]
  },
  {
   "cell_type": "code",
   "execution_count": null,
   "id": "5b8eb132-a90c-4ba1-a289-053739a08a5b",
   "metadata": {},
   "outputs": [],
   "source": [
    "clf.score(X_train_full,y_train_binary), clf.score(X_test_full,y_test_binary)"
   ]
  },
  {
   "cell_type": "markdown",
   "id": "b504f362-17aa-4ef5-8de6-7cdc9ba2213f",
   "metadata": {},
   "source": [
    "After all this effort, my model is performing no better than the xgboost model on the tfidf transformed text data.  My Final attempt at improving my baseline will be by looking at sentiment analysis."
   ]
  },
  {
   "cell_type": "code",
   "execution_count": null,
   "id": "133420ee-2103-4430-b630-c960d85830a3",
   "metadata": {},
   "outputs": [],
   "source": [
    "from nltk.sentiment.vader import SentimentIntensityAnalyzer\n",
    "\n",
    "import nltk\n",
    "\n",
    "nltk.download('wordnet') # WordNet is a lexical database of English. Using synsets, helps find conceptual relationships between words such as hypernyms, hyponyms, synonyms, antonyms etc. \n",
    "\n",
    "nltk.download('omw-1.4') # Open Multilingual Wordnet (\"OMW\")\n",
    "\n",
    "nltk.download('vader_lexicon') # sentiment (positive, negative, etc.) lexicon"
   ]
  },
  {
   "cell_type": "code",
   "execution_count": null,
   "id": "22e9fb93-eafd-4677-807b-a0abc8f54743",
   "metadata": {},
   "outputs": [],
   "source": [
    "sia = SentimentIntensityAnalyzer()"
   ]
  },
  {
   "cell_type": "code",
   "execution_count": null,
   "id": "8c98baf0-7859-4130-8214-c9e6d8768069",
   "metadata": {},
   "outputs": [],
   "source": [
    "X_train_polar = np.zeros(len(X_train))\n",
    "X_train_polar = pd.DataFrame([sia.polarity_scores(text) for text in X_train])\n",
    "X_test_polar = pd.DataFrame([sia.polarity_scores(text) for text in X_test])"
   ]
  },
  {
   "cell_type": "code",
   "execution_count": null,
   "id": "742788ff-22e9-4d43-b07d-ef9b3ea47346",
   "metadata": {},
   "outputs": [],
   "source": [
    "from sklearn.neighbors import KNeighborsClassifier"
   ]
  },
  {
   "cell_type": "markdown",
   "id": "f6f4e6e7-12a2-4a92-855b-50f82991dcdc",
   "metadata": {},
   "source": [
    "I might expect that the limited feature space and similar scaling of the features would allow for reasonable performance by knn."
   ]
  },
  {
   "cell_type": "code",
   "execution_count": null,
   "id": "f07b8237-cb9c-4a85-a158-23f07354123d",
   "metadata": {},
   "outputs": [],
   "source": [
    "knn = KNeighborsClassifier()\n",
    "knn.fit(X_train_polar, y_train_binary)\n",
    "knn.score(X_train_polar, y_train_binary), knn.score(X_test_polar, y_test_binary)"
   ]
  },
  {
   "cell_type": "markdown",
   "id": "68b87b93-a4e2-46ca-9c78-35904c4414b3",
   "metadata": {},
   "source": [
    "Knn does not perform well, with a test score below baseline of 0.668"
   ]
  },
  {
   "cell_type": "code",
   "execution_count": null,
   "id": "c8085b15-306f-4835-97da-4c94564662ed",
   "metadata": {},
   "outputs": [],
   "source": [
    "xgb = xgboost.XGBClassifier()\n",
    "xgb.fit(X_train_polar, y_train_binary)\n",
    "xgb.score(X_train_polar, y_train_binary), xgb.score(X_test_polar, y_test_binary)"
   ]
  },
  {
   "cell_type": "markdown",
   "id": "2d58f73c-cd81-4f2c-b64d-81c3dac77789",
   "metadata": {},
   "source": [
    "Sentiment analysis provides a paltry improvement over baseline.  However, looking at the average sentiment may be useful in guiding the social media team."
   ]
  },
  {
   "cell_type": "code",
   "execution_count": null,
   "id": "fd9c02c3-fdb9-4c7c-8df1-f11575e2bb49",
   "metadata": {},
   "outputs": [],
   "source": [
    "polar_df = X_train_polar.copy()\n",
    "polar_df['subreddit'] = y_train\n",
    "pd.set_option('display.max_columns', None)\n",
    "polar_df[['neg','pos','subreddit']].groupby('subreddit').describe()\n"
   ]
  },
  {
   "cell_type": "markdown",
   "id": "f2a2ca84-cac0-46bc-9c25-5d3006a2a1d4",
   "metadata": {},
   "source": [
    "Above, we see that both technology and science are quite neutral in sentiment, which explains the negligible predictive power of sentiment.  I'll include anyways, as I don't believe they will result in significant overfitting and better parameter selection may eek out some value"
   ]
  },
  {
   "cell_type": "code",
   "execution_count": null,
   "id": "ec8a190b-3116-4557-a871-52648cd3e042",
   "metadata": {},
   "outputs": [],
   "source": [
    "#debug axs plotting error \"parg follows kwarg\"\n",
    "\n",
    "# plt.figure(figsize=(20,20))\n",
    "# fig, axs = plt.subplots(2,2)\n",
    "# sns.displot(polar_df.loc[(polar_df['neg']> polar_df.loc[\n",
    "#     polar_df['subreddit']=='science','neg'].quantile(.75))\n",
    "#     &(polar_df['subreddit']=='science'),'neg']) #ax = axs[0,0]\n",
    "# .set(title = 'Science negativity distribution above 75th percentile')\n",
    "# sns.displot(ax = axs[0,1],polar_df.loc[(polar_df['neg']> polar_df.loc[polar_df['subreddit']==\n",
    "# 'technology','neg'].quantile(.75))&(polar_df['subreddit']=='technology'),'neg']\n",
    "#     ).set(title = 'Technology negativity distribution above 75th percentile')"
   ]
  },
  {
   "cell_type": "code",
   "execution_count": null,
   "id": "ac1e2458-0f5a-4671-8143-e831c7094dc6",
   "metadata": {},
   "outputs": [],
   "source": [
    "sns.displot(polar_df.loc[(polar_df['neg']> polar_df.loc[polar_df['subreddit']==\n",
    "'science','neg'].quantile(.75))&(polar_df['subreddit']=='science'),'neg']).set(\n",
    "    title = 'Science negativity distribution above 75th percentile')\n",
    "plt.savefig('./visuals/sia_neg_sci')"
   ]
  },
  {
   "cell_type": "code",
   "execution_count": null,
   "id": "4c7ce0b2-9209-4c3a-addf-f114bc935c31",
   "metadata": {},
   "outputs": [],
   "source": [
    "plt.figure(figsize=(10,10))\n",
    "sns.displot(polar_df.loc[(polar_df['neg']> polar_df.loc[polar_df['subreddit']==\n",
    "'technology','neg'].quantile(.75))&(polar_df['subreddit']=='technology'),'neg']\n",
    "    ).set(title = 'Technology negativity distribution above 75th percentile')\n",
    "plt.savefig('./visuals/sia_neg_tec')"
   ]
  },
  {
   "cell_type": "markdown",
   "id": "85cb6a68-22f4-4e04-83a3-3999d3c44e5a",
   "metadata": {},
   "source": [
    "Above, we see that the negative sentiment distributions are very similar between both science and technology."
   ]
  },
  {
   "cell_type": "code",
   "execution_count": null,
   "id": "4e74e67c-ceb3-4416-9344-f068d0523d3c",
   "metadata": {},
   "outputs": [],
   "source": [
    "sns.displot(polar_df.loc[(polar_df['pos']> 0)&(polar_df['subreddit']=='technology'),'pos']\n",
    "    ).set(title = 'Technology positivity distribution above 0')"
   ]
  },
  {
   "cell_type": "code",
   "execution_count": null,
   "id": "f1db1c1c-be1c-4cf6-b8b6-219f887ca5d8",
   "metadata": {},
   "outputs": [],
   "source": [
    "sns.displot(polar_df.loc[(polar_df['pos']> 0)&(polar_df['subreddit']=='science'),'pos']\n",
    "    ).set(title = 'Science positivity distribution above 0')"
   ]
  },
  {
   "cell_type": "markdown",
   "id": "f74b3916-222e-4036-866f-1603efe1fa5a",
   "metadata": {},
   "source": [
    "Above, we see that the positive sentiment of science is slighly more muted than with technology."
   ]
  },
  {
   "cell_type": "code",
   "execution_count": null,
   "id": "156d0f13-c29c-4203-b075-7231946b7fd6",
   "metadata": {},
   "outputs": [],
   "source": [
    "tfidf_xgb_pipe = Pipeline([\n",
    "    ('tfidf_vec', tfidf_vec),\n",
    "    ('xgb', xgb.XGBClassifier(seed = 1))])\n",
    "tfidf_xgb_params = {\"xgb__eta\": [.01,.015,.05],\n",
    "                    'xgb__booster': ['gbtree','gblinear'],\n",
    "                    # 'xgb__lambda': [.1,1,10],\n",
    "                    # 'xgb__alpha': [0,.1,1],\n",
    "                   'tfidf_vec__max_df': [.85,.9,.925],\n",
    "                   'tfidf_vec__min_df': [.0005,.001,.0015],}\n"
   ]
  },
  {
   "cell_type": "markdown",
   "id": "471c70fe-942a-49a8-a293-39e416695a4c",
   "metadata": {},
   "source": [
    "###### Grid search over text, stats, and sentiment"
   ]
  },
  {
   "cell_type": "code",
   "execution_count": null,
   "id": "0deaf5ef-5d2d-42c5-a548-e1f349e14966",
   "metadata": {},
   "outputs": [],
   "source": [
    "text_transformer = TfidfVectorizer(stop_words='english', max_features=1000)\n",
    "\n",
    "numeric_transformer = Pipeline(\n",
    "    steps = [('scaler',StandardScaler())\n",
    "             # ('polynomial', PolynomialFeatures(degree=2, interaction_only=True))\n",
    "            ]\n",
    ")\n",
    "\n",
    "text_features = 'title'\n",
    "numeric_features = X_train_full2.columns[1:].values\n",
    "\n",
    "preprocessor = ColumnTransformer(\n",
    "    transformers=[\n",
    "    ('txt', text_transformer, text_features),\n",
    "    ('num', numeric_transformer, numeric_features)\n",
    "    ]\n",
    ")"
   ]
  },
  {
   "cell_type": "code",
   "execution_count": null,
   "id": "b04dc503-2ab2-4e7e-a5d4-da6f2048ab7f",
   "metadata": {
    "tags": []
   },
   "outputs": [],
   "source": [
    "full_pipe = Pipeline(\n",
    "    steps = [('preprocessor', preprocessor), ('classifier', xgboost.XGBClassifier(max_depth=6))]\n",
    ")"
   ]
  },
  {
   "cell_type": "code",
   "execution_count": null,
   "id": "cec8707f-df96-4c9d-badb-0b9c3c7b6d87",
   "metadata": {},
   "outputs": [],
   "source": [
    "params = {'preprocessor__txt__max_df':[.9,.925],\n",
    "          'preprocessor__txt__min_df': [.0001,.0005],\n",
    "          'preprocessor__txt__ngram_range': [(1, 2),(1, 3)],\n",
    "          'classifier__subsample': [.78,.8],\n",
    "         }"
   ]
  },
  {
   "cell_type": "code",
   "execution_count": null,
   "id": "6b605370-ea8f-4c21-b382-f33ec3991da4",
   "metadata": {},
   "outputs": [],
   "source": [
    "gs_full = GridSearchCV(full_pipe, params)\n",
    "\n",
    "gs_full.fit(X_train_full2, y_train_binary)"
   ]
  },
  {
   "cell_type": "code",
   "execution_count": null,
   "id": "12dd70ed-2340-43aa-b5d8-40baf4137e2f",
   "metadata": {},
   "outputs": [],
   "source": [
    "gs_full.best_params_"
   ]
  },
  {
   "cell_type": "code",
   "execution_count": null,
   "id": "07df3f10-8bfa-4296-b651-aa641c8775d1",
   "metadata": {},
   "outputs": [],
   "source": [
    "gs_full.score(X_train_full2,y_train_binary),gs_full.score(X_test_full2,y_test_binary)"
   ]
  },
  {
   "cell_type": "markdown",
   "id": "8bf7449f-3a07-44c3-b2f4-22332bf478b1",
   "metadata": {
    "tags": []
   },
   "source": [
    "gs_full.best_params_ : {'classifier__subsample': 0.8,\n",
    " 'preprocessor__txt__max_df': 0.9,\n",
    " 'preprocessor__txt__min_df': 0.0001,\n",
    " 'preprocessor__txt__ngram_range': (1, 3)}\n",
    "gs_full.score(X_train_full2,y_train_binary),gs_full.score(X_test_full2,y_test_binary): (0.9277597402597403, 0.8713995943204869)"
   ]
  },
  {
   "cell_type": "markdown",
   "id": "d0025b85-d773-41bf-b27b-fdcb177fc9f5",
   "metadata": {},
   "source": [
    "Now I will plug in the best previously found parameters for the classifier"
   ]
  },
  {
   "cell_type": "code",
   "execution_count": null,
   "id": "277701e4-278d-4506-91f6-8c76540100ad",
   "metadata": {},
   "outputs": [],
   "source": [
    "params = {'preprocessor__txt__max_df':[.9],\n",
    "          'preprocessor__txt__min_df': [.001],\n",
    "          'preprocessor__txt__ngram_range': [(1, 2),(1, 3)],\n",
    "          'classifier__eta': [.01],\n",
    "          'classifier__booster': ['gblinear'],\n",
    "         }"
   ]
  },
  {
   "cell_type": "code",
   "execution_count": null,
   "id": "11c1e61e-f8d5-4f57-9071-89fb3a73c74a",
   "metadata": {},
   "outputs": [],
   "source": []
  },
  {
   "cell_type": "code",
   "execution_count": null,
   "id": "350fbf79-8b6f-408b-8175-34baac4fbba5",
   "metadata": {
    "tags": []
   },
   "outputs": [],
   "source": [
    "gs_full = GridSearchCV(full_pipe, params)\n",
    "\n",
    "gs_full.fit(X_train_full2, y_train_binary)"
   ]
  },
  {
   "cell_type": "code",
   "execution_count": null,
   "id": "57b91665-e9af-4d9b-a2d0-f77eaaaf401d",
   "metadata": {},
   "outputs": [],
   "source": [
    "gs_full.score(X_train_full2,y_train_binary),gs_full.score(X_test_full2,y_test_binary)"
   ]
  },
  {
   "cell_type": "code",
   "execution_count": null,
   "id": "77af7d97-ec40-413e-9d25-c13b4573984f",
   "metadata": {},
   "outputs": [],
   "source": [
    "gs_full.best_params_"
   ]
  },
  {
   "cell_type": "markdown",
   "id": "bed609a5-1f2c-4339-ac3b-3e3764b4d48e",
   "metadata": {},
   "source": [
    "The best score thus far has been achieved!  We have eked out a .0032 gain in test set accuracy and .0037 in trainin set accuracy, bringing us to 0.892 in test set performance.  "
   ]
  },
  {
   "cell_type": "code",
   "execution_count": null,
   "id": "223a8177-62e8-411c-9c50-e394a255e664",
   "metadata": {},
   "outputs": [],
   "source": [
    ".0036"
   ]
  },
  {
   "cell_type": "code",
   "execution_count": null,
   "id": "46234f9a-2805-4711-9de4-1d0a51f2da25",
   "metadata": {},
   "outputs": [],
   "source": [
    "params_eta_tune = {'preprocessor__txt__max_df':[.9],\n",
    "          'preprocessor__txt__min_df': [.001],\n",
    "          'preprocessor__txt__ngram_range': [(1, 2),(1, 3)],\n",
    "          'classifier__eta': [.0115],\n",
    "          'classifier__booster': ['gblinear'],\n",
    "         }"
   ]
  },
  {
   "cell_type": "code",
   "execution_count": null,
   "id": "224306c8-01bd-40d8-8531-b46970227341",
   "metadata": {
    "tags": []
   },
   "outputs": [],
   "source": [
    "gs_full = GridSearchCV(full_pipe, params_eta_tune)\n",
    "\n",
    "gs_full.fit(X_train_full2, y_train_binary);"
   ]
  },
  {
   "cell_type": "code",
   "execution_count": null,
   "id": "f3d34cb4-b303-4868-85bf-12e434de4c07",
   "metadata": {},
   "outputs": [],
   "source": [
    "gs_full.score(X_train_full2,y_train_binary),gs_full.score(X_test_full2,y_test_binary)"
   ]
  },
  {
   "cell_type": "markdown",
   "id": "4e3824c6-2856-4d50-842a-0aab762f51c6",
   "metadata": {},
   "source": [
    "Further tuning of the eta has lead to an additional 13 tenths of test set performance, which ammounts to around three additional correct predictions on the test set of 2465 observations.  It is quite possible that this further 'test' set improvement is due to overtuning of the eta hyper parameter.  However, I believe that the model is performing as well as it could in terms of accuracy and that it is ready to categorize truly new technology and science subreddit posts."
   ]
  },
  {
   "cell_type": "markdown",
   "id": "4fcc42d2-e321-4b93-ba51-d903b36f3202",
   "metadata": {},
   "source": [
    "The final parameters are:"
   ]
  },
  {
   "cell_type": "markdown",
   "id": "7d450ffa-9387-49c2-8f3d-d398c22fb0d7",
   "metadata": {},
   "source": [
    "```{'classifier__booster': 'gblinear',\n",
    " 'classifier__eta': 0.0115,\n",
    " 'preprocessor__txt__max_df': 0.9,\n",
    " 'preprocessor__txt__min_df': 0.001,\n",
    " 'preprocessor__txt__ngram_range': (1, 2)}```"
   ]
  },
  {
   "cell_type": "markdown",
   "id": "3f13e579-0866-476f-a34e-8aafdf765494",
   "metadata": {},
   "source": [
    "I will now investigate various characteristic of the model. "
   ]
  },
  {
   "cell_type": "markdown",
   "id": "4ae01c97-459b-42c9-b50e-d227cf8894d5",
   "metadata": {},
   "source": [
    "###### Results analysis"
   ]
  },
  {
   "cell_type": "code",
   "execution_count": null,
   "id": "33a7fa2d-753e-4198-99d0-23905627b8ba",
   "metadata": {},
   "outputs": [],
   "source": [
    "# predictions on test set:\n",
    "pred_test = gs_full.predict(X_test_full2)"
   ]
  },
  {
   "cell_type": "code",
   "execution_count": null,
   "id": "a7ed035c-934f-4099-b39f-85434c024cb9",
   "metadata": {},
   "outputs": [],
   "source": []
  },
  {
   "cell_type": "code",
   "execution_count": null,
   "id": "524be026-f525-499a-a52d-88228d745467",
   "metadata": {},
   "outputs": [],
   "source": [
    "cm = confusion_matrix(y_test_binary, pred_test)\n",
    "\n",
    "cmd = ConfusionMatrixDisplay(cm,display_labels=['science','technology'],)\n",
    "cmd.plot(cmap = 'Blues')\n",
    "plt.title(label = 'CM -- predictions on all data')\n",
    "plt.savefig('./visuals/cm--full_model_predictions')"
   ]
  },
  {
   "cell_type": "markdown",
   "id": "e252bd9b-473a-4530-b470-d9b6de2f07cd",
   "metadata": {},
   "source": [
    "In the square above, we have true positives in the lower right, true negatives in the upper left, false positives in the upper right, and false negatives in the lower left.  A 'positive' outcome is a technology prediction and a 'negative' outcome is a science prediction."
   ]
  },
  {
   "cell_type": "code",
   "execution_count": null,
   "id": "0ba011ec-88f8-4523-9930-351744044544",
   "metadata": {},
   "outputs": [],
   "source": [
    "cm[0,1]"
   ]
  },
  {
   "cell_type": "code",
   "execution_count": null,
   "id": "60468b7e-aa29-4c57-9539-f0048c9ca98d",
   "metadata": {},
   "outputs": [],
   "source": [
    "# Accuracy: (tp+tn)/(tp+tn+fp+fn)\n",
    "(cm[0,0] + cm[1,1])/cm.sum()*100 # Accuracy is 89.33%, "
   ]
  },
  {
   "cell_type": "code",
   "execution_count": null,
   "id": "37ead03c-9ff5-470c-8e88-f59ffeb91aed",
   "metadata": {},
   "outputs": [],
   "source": [
    "# Precision: tp/(tp+fp)\n",
    "(cm[1,1])/((cm[0,1] + cm[1,1]))*100 # Precision is 89.35%"
   ]
  },
  {
   "cell_type": "code",
   "execution_count": null,
   "id": "8571ac0d-6b4f-4f87-ad04-e29fd205b5d2",
   "metadata": {},
   "outputs": [],
   "source": [
    "# Recall/sensitivity: tp/(tp+fn)\n",
    "(cm[1,1])/(cm[1,0] + cm[1,1])*100 # Recall is 95.70%"
   ]
  },
  {
   "cell_type": "code",
   "execution_count": null,
   "id": "baef8865-080d-4220-8ec8-f28f716d68f9",
   "metadata": {},
   "outputs": [],
   "source": [
    "# Specificity: tn/(tn+fp)\n",
    "(cm[0,0])/((cm[0,0] + cm[0,1]))*100 # Specificity is 75.85%"
   ]
  },
  {
   "cell_type": "code",
   "execution_count": null,
   "id": "3246a1cc-338b-40a6-9379-90405ca570d1",
   "metadata": {},
   "outputs": [],
   "source": [
    "# F1 score:\n",
    "\n",
    "(2*cm[1,1])/(2*cm[1,1] + cm[0,1] + cm[1,0]) # F1 score is .9241"
   ]
  },
  {
   "cell_type": "markdown",
   "id": "6d1af9d5-90de-45e4-9331-e3f711f74c7c",
   "metadata": {},
   "source": [
    "Above, we find that accuracy is 89.33%, precision is 89.35%, recall/sensitivity is 95.70%, specificity is 75.85%, and the F1 score is .9241.  These are promising results that demostrate the model is offering value in correctly identifying both subreddits.  Most relevant to our goal of finding technology posts that appear scientific, 72/672 of the posts predicted to be scientific were in fact from the technology subreddit."
   ]
  },
  {
   "cell_type": "markdown",
   "id": "4a77c6e0-e1e5-4c32-ad64-af93a2c36697",
   "metadata": {},
   "source": [
    "Now lets examine technology posts that pass as 'scientific'."
   ]
  },
  {
   "cell_type": "code",
   "execution_count": null,
   "id": "7aba71c5-df30-4f51-a8e1-3573d80ceee7",
   "metadata": {},
   "outputs": [],
   "source": [
    "pred_test"
   ]
  },
  {
   "cell_type": "code",
   "execution_count": null,
   "id": "1514fb23-caa8-4b14-ac62-b5ca0e4db29e",
   "metadata": {
    "tags": []
   },
   "outputs": [],
   "source": [
    "type(X_test)"
   ]
  },
  {
   "cell_type": "code",
   "execution_count": null,
   "id": "5181073a-0e63-44d4-9046-cf2dc9e5b43a",
   "metadata": {},
   "outputs": [],
   "source": [
    "y"
   ]
  },
  {
   "cell_type": "code",
   "execution_count": null,
   "id": "fe36b7bb-2d97-46fe-92d0-3fe0fb172346",
   "metadata": {},
   "outputs": [],
   "source": [
    "false_negatives = X_test.loc[(pred_test==0) &  (np.array(y_test_binary)==1)]"
   ]
  },
  {
   "cell_type": "code",
   "execution_count": null,
   "id": "d6f5f8df-8608-43a1-a867-10081440df8a",
   "metadata": {},
   "outputs": [],
   "source": [
    "false_positives = X_test.loc[(pred_test==1) &  (np.array(y_test_binary)==0)]"
   ]
  },
  {
   "cell_type": "code",
   "execution_count": null,
   "id": "1e591a11-612a-427e-a1f8-637c4fcbda9c",
   "metadata": {},
   "outputs": [],
   "source": [
    "random.seed(a=30, version=2)\n",
    "fn_sample = false_negatives.iloc[random.sample(list(np.linspace(0,72,73).astype(int)),5,)]"
   ]
  },
  {
   "cell_type": "code",
   "execution_count": null,
   "id": "b6e69e99-2d83-4352-b4ce-ca443db727ba",
   "metadata": {},
   "outputs": [],
   "source": [
    "fn_sample.iloc[4]"
   ]
  },
  {
   "cell_type": "markdown",
   "id": "20963c8a-592b-48d2-bb2d-fdcca430bee6",
   "metadata": {},
   "source": [
    "A sample of five posts incorrectly identified as science are :\n",
    "\n",
    "1) 'U.S. officials announce major nuclear fusion breakthrough | [36:50]'\n",
    "2) \"Musk's Neuralink intends to implant coin-sized computer brain implants into human patients within the next six months\",\n",
    "3) \"Deep-learning system identifies difficult-to-detect brain metastases\"\n",
    "4) 'News Updates:Indian stocks recover losses as banks and metals offset a decline in IT.'\n",
    "5) 'Brain cancer vaccine succeeds at prolonging survival in Phase 3 trial'\n"
   ]
  },
  {
   "cell_type": "markdown",
   "id": "c84c2c57-aede-417e-ad61-3d95682aa147",
   "metadata": {},
   "source": [
    "From examining the above technology posts which were falsely identified as scientific, it is apparent that there is a scientific presence within the r/technology community.  \n",
    "\n",
    "The model is understandably having difficulty with the important intersection between science and technology, with reports of cutting edge technological advancements (Fusion, brain implants, vaccines) being identified as posts by the r/science community.  \n",
    "\n",
    "The lone pure-business post about indian stocks represents potential for model improvement."
   ]
  },
  {
   "cell_type": "markdown",
   "id": "c8417bca-7acf-48e6-bcaa-0632b217abb0",
   "metadata": {},
   "source": [
    "Now lets inspect a few false positive predictions, which falsely identify science posts as technological."
   ]
  },
  {
   "cell_type": "code",
   "execution_count": null,
   "id": "4b512479-aa61-4cbe-8c0d-97b0523d5d67",
   "metadata": {},
   "outputs": [],
   "source": [
    "false_positives = X_test.loc[(pred_test==1) &  (np.array(y_test_binary)==0)]"
   ]
  },
  {
   "cell_type": "code",
   "execution_count": null,
   "id": "ee9bffbd-9354-4417-b145-bdd1fd67f0ef",
   "metadata": {},
   "outputs": [],
   "source": [
    "random.seed(a=30, version=2)\n",
    "fp_sample = false_positives.iloc[random.sample(list(np.linspace(0,72,73).astype(int)),5,)]"
   ]
  },
  {
   "cell_type": "code",
   "execution_count": null,
   "id": "1ac52ed6-acaa-4b26-a784-72cd0ad322e8",
   "metadata": {},
   "outputs": [],
   "source": [
    "for i in [0,1,2,3,4]:\n",
    "    print(fp_sample.iloc[i])"
   ]
  },
  {
   "cell_type": "markdown",
   "id": "63dc1982-d86d-4fb6-9140-6770c3615bec",
   "metadata": {},
   "source": [
    "The above sample of posts incorrectly identified as technological demostrate both the technological concern and conversational style of some science posts.  This indicates to me that there is some place for colloquial tone and reporting on developments that are part technological in nature within the context of scientific reporting."
   ]
  },
  {
   "cell_type": "code",
   "execution_count": null,
   "id": "5930cbdf-a720-4629-9039-47c11fbe4e99",
   "metadata": {
    "tags": []
   },
   "outputs": [],
   "source": [
    "importance = gs_full.best_estimator_.named_steps.classifier.feature_importances_"
   ]
  },
  {
   "cell_type": "code",
   "execution_count": null,
   "id": "b8e5990d-16ce-423c-b7d7-9b0863049d45",
   "metadata": {
    "tags": []
   },
   "outputs": [],
   "source": [
    "names_txt = gs_full.best_estimator_.named_steps.preprocessor.named_transformers_.txt.get_feature_names_out()\n",
    "names_num = gs_full.best_estimator_.named_steps.preprocessor.named_transformers_.num.get_feature_names_out()\n",
    "names = np.concatenate((names_txt,names_num))\n",
    "names = names.tolist()"
   ]
  },
  {
   "cell_type": "code",
   "execution_count": null,
   "id": "feb0b4ff-3e58-45a4-a0d3-499f82c02748",
   "metadata": {},
   "outputs": [],
   "source": [
    "feature_importance_graph(names,importance)\n",
    "\n",
    "plt.savefig('./visuals/fi_full_model')"
   ]
  },
  {
   "cell_type": "markdown",
   "id": "0ca2c866-3480-4b1d-a605-73f5d226f2d0",
   "metadata": {},
   "source": [
    "Above, we see that the bigram 'forecast period' has the greatest importance in the model.  Other business terms also show some importance, as do the late 2022 treding topics of 'twitter' and 'musk'. "
   ]
  },
  {
   "cell_type": "markdown",
   "id": "a48bf399-be86-4444-9cd4-88bbe1737c6a",
   "metadata": {},
   "source": [
    "#### Conclusions, Recommendations, and Next Steps"
   ]
  },
  {
   "cell_type": "markdown",
   "id": "7e2c99e7-9bf9-49c6-ad40-d938c83548fe",
   "metadata": {},
   "source": [
    "The findings of this report demonstrate that is is possible for a model to distinguish, with substantial improvement over the baseline, between posts from the science and technology subreddits.\n",
    "\n",
    "The model has also demonstrated that there is significant overlap between the science and technology subreddits, with around 25% of the scientific posts being classified as technological and around 5% of the technological posts being classified as scientific.  The difference in these misclassification magnitudes is likely due in part to the unbalanced priors of the classes, with around 68% of the posts being from the technology subreddit. Upon inspecting examples of these misclassifications, it became clear that many of the posts from technology that were classified as scientific were in fact highly scientific in nature.\n",
    "\n",
    "The takeaway is that a technological tilt would not be amiss in RealScience's social media presence.  While this is not surprising, these findings offer that audiences appreciate findings that intertwine technological and scientific elements."
   ]
  },
  {
   "cell_type": "code",
   "execution_count": null,
   "id": "debcae80-1b7f-428b-979f-b61c0159f96b",
   "metadata": {},
   "outputs": [],
   "source": []
  }
 ],
 "metadata": {
  "kernelspec": {
   "display_name": "Python 3 (ipykernel)",
   "language": "python",
   "name": "python3"
  },
  "language_info": {
   "codemirror_mode": {
    "name": "ipython",
    "version": 3
   },
   "file_extension": ".py",
   "mimetype": "text/x-python",
   "name": "python",
   "nbconvert_exporter": "python",
   "pygments_lexer": "ipython3",
   "version": "3.9.7"
  }
 },
 "nbformat": 4,
 "nbformat_minor": 5
}
