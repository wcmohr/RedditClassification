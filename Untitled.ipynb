{
 "cells": [
  {
   "cell_type": "markdown",
   "id": "92c5827a-f597-46bd-8f40-94ff010d7e8d",
   "metadata": {},
   "source": [
    "###### **Load Libraries**"
   ]
  },
  {
   "cell_type": "code",
   "execution_count": 80,
   "id": "589d063c-8fee-4e58-9576-41928fc9ca97",
   "metadata": {},
   "outputs": [],
   "source": [
    "import pandas as pd\n",
    "import time\n",
    "import requests"
   ]
  },
  {
   "cell_type": "code",
   "execution_count": 4,
   "id": "2a11757d-8208-4b7b-82b1-140676a64ecf",
   "metadata": {},
   "outputs": [],
   "source": [
    "science_url = 'https://api.pushshift.io/reddit/search/submission?subreddit=scien\\\n",
    "ce&metadata=true&size=0'"
   ]
  },
  {
   "cell_type": "code",
   "execution_count": 5,
   "id": "bdb9a408-ce28-4b65-8b5f-d93e50225e2a",
   "metadata": {},
   "outputs": [],
   "source": [
    "tech_url = 'https://api.pushshift.io/reddit/search/submission?subreddit=technolo\\\n",
    "gy&metadata=true&size=0&selftext'"
   ]
  },
  {
   "cell_type": "code",
   "execution_count": 9,
   "id": "f17fdf85-7665-43e7-ae60-9348627a4ed8",
   "metadata": {
    "tags": []
   },
   "outputs": [
    {
     "data": {
      "text/plain": [
       "200"
      ]
     },
     "execution_count": 9,
     "metadata": {},
     "output_type": "execute_result"
    }
   ],
   "source": [
    "res = requests.get(tech_url)\n",
    "res.status_code"
   ]
  },
  {
   "cell_type": "code",
   "execution_count": 11,
   "id": "8b16ce05-1216-42da-aaee-4468017376b3",
   "metadata": {},
   "outputs": [],
   "source": [
    "sci_res = requests.get(science_url)\n",
    "tech_res = requests.get(tech_url)"
   ]
  },
  {
   "cell_type": "markdown",
   "id": "5839409a-6265-4ad0-9d50-ce5eba919dc6",
   "metadata": {
    "jupyter": {
     "outputs_hidden": true
    },
    "tags": []
   },
   "source": [
    "###### **Step two: extract the data**"
   ]
  },
  {
   "cell_type": "code",
   "execution_count": 15,
   "id": "7ebb42de-8955-4ab4-88b9-44daf8bdecaf",
   "metadata": {
    "tags": []
   },
   "outputs": [],
   "source": [
    "sci_tr = sci_res.json()['metadata']\n"
   ]
  },
  {
   "cell_type": "code",
   "execution_count": 19,
   "id": "0a2537ff-3a04-432d-9c22-fd1bcd129687",
   "metadata": {},
   "outputs": [
    {
     "data": {
      "text/plain": [
       "True"
      ]
     },
     "execution_count": 19,
     "metadata": {},
     "output_type": "execute_result"
    }
   ],
   "source": [
    "df = pd.DataFrame(res.json()['data'])\n",
    "df['id'].nunique() == len(df)"
   ]
  },
  {
   "cell_type": "code",
   "execution_count": 21,
   "id": "b0394078-a118-4ae4-a435-8c751869d641",
   "metadata": {},
   "outputs": [
    {
     "data": {
      "text/plain": [
       "10"
      ]
     },
     "execution_count": 21,
     "metadata": {},
     "output_type": "execute_result"
    }
   ],
   "source": [
    "len(df)"
   ]
  },
  {
   "cell_type": "code",
   "execution_count": 26,
   "id": "f229eb5d-889d-4cd4-8954-3a2606969246",
   "metadata": {},
   "outputs": [
    {
     "data": {
      "text/plain": [
       "1584420"
      ]
     },
     "execution_count": 26,
     "metadata": {},
     "output_type": "execute_result"
    }
   ],
   "source": [
    "tech_tr = tech_response.json()['metadata']['total_results']\n",
    "tech_tr"
   ]
  },
  {
   "cell_type": "code",
   "execution_count": null,
   "id": "15346a2e-09f3-4269-bf7f-cfdebc75c00d",
   "metadata": {},
   "outputs": [],
   "source": []
  },
  {
   "cell_type": "code",
   "execution_count": null,
   "id": "f61c9dcd-a41f-42b1-b177-60617f060bed",
   "metadata": {},
   "outputs": [],
   "source": [
    "tech_response = requests.get(science_url)\n",
    "response"
   ]
  },
  {
   "cell_type": "markdown",
   "id": "59618191-1cd6-433c-8a5f-bbcaeb9fefae",
   "metadata": {
    "tags": []
   },
   "source": [
    "###### **Step three: let's make it a bit more complex**"
   ]
  },
  {
   "cell_type": "code",
   "execution_count": null,
   "id": "68fbc01c-d1d4-4241-a50c-9c70af099a6e",
   "metadata": {},
   "outputs": [],
   "source": []
  },
  {
   "cell_type": "code",
   "execution_count": 43,
   "id": "7dc8f8ce-7bc3-48d6-8338-8782b489b7c4",
   "metadata": {},
   "outputs": [
    {
     "name": "stdout",
     "output_type": "stream",
     "text": [
      "1000\n"
     ]
    },
    {
     "data": {
      "text/plain": [
       "200"
      ]
     },
     "execution_count": 43,
     "metadata": {},
     "output_type": "execute_result"
    }
   ],
   "source": [
    "base_url = 'https://api.pushshift.io/reddit/search/submission'\n",
    "\n",
    "params = {\n",
    "    'subreddit': 'science',\n",
    "    'size': 1000\n",
    "}\n",
    "\n",
    "res = requests.get(base_url, params)\n",
    "\n",
    "if res.status_code == 200:\n",
    "    posts = pd.DataFrame(res.json()['data'])\n",
    "    print(len(posts))\n",
    "else: \n",
    "    print(f'status:{res.status_code}')\n",
    "res.status_code"
   ]
  },
  {
   "cell_type": "code",
   "execution_count": 30,
   "id": "ee4a99bf-c6f0-4690-80c7-04ef66573888",
   "metadata": {},
   "outputs": [
    {
     "ename": "NameError",
     "evalue": "name 'posts' is not defined",
     "output_type": "error",
     "traceback": [
      "\u001b[0;31m---------------------------------------------------------------------------\u001b[0m",
      "\u001b[0;31mNameError\u001b[0m                                 Traceback (most recent call last)",
      "\u001b[0;32m/var/folders/jl/p0b83vx55ls1hskdgz1sddkw0000gn/T/ipykernel_23714/2154501927.py\u001b[0m in \u001b[0;36m<module>\u001b[0;34m\u001b[0m\n\u001b[0;32m----> 1\u001b[0;31m \u001b[0mposts\u001b[0m\u001b[0;34m[\u001b[0m\u001b[0;34m'created_utc'\u001b[0m\u001b[0;34m]\u001b[0m\u001b[0;34m\u001b[0m\u001b[0;34m\u001b[0m\u001b[0m\n\u001b[0m",
      "\u001b[0;31mNameError\u001b[0m: name 'posts' is not defined"
     ]
    }
   ],
   "source": [
    "posts['created_utc']"
   ]
  },
  {
   "cell_type": "code",
   "execution_count": 31,
   "id": "03e09f36-11da-4ad5-845d-373192b66b39",
   "metadata": {},
   "outputs": [
    {
     "ename": "NameError",
     "evalue": "name 'posts' is not defined",
     "output_type": "error",
     "traceback": [
      "\u001b[0;31m---------------------------------------------------------------------------\u001b[0m",
      "\u001b[0;31mNameError\u001b[0m                                 Traceback (most recent call last)",
      "\u001b[0;32m/var/folders/jl/p0b83vx55ls1hskdgz1sddkw0000gn/T/ipykernel_23714/2091241075.py\u001b[0m in \u001b[0;36m<module>\u001b[0;34m\u001b[0m\n\u001b[0;32m----> 1\u001b[0;31m \u001b[0mposts\u001b[0m\u001b[0;34m[\u001b[0m\u001b[0;34m'created_utc'\u001b[0m\u001b[0;34m]\u001b[0m\u001b[0;34m.\u001b[0m\u001b[0mmin\u001b[0m\u001b[0;34m(\u001b[0m\u001b[0;34m)\u001b[0m\u001b[0;34m\u001b[0m\u001b[0;34m\u001b[0m\u001b[0m\n\u001b[0m",
      "\u001b[0;31mNameError\u001b[0m: name 'posts' is not defined"
     ]
    }
   ],
   "source": [
    "posts['created_utc'].min()"
   ]
  },
  {
   "cell_type": "markdown",
   "id": "95db08b2-cc9e-4cae-8753-3681eb093123",
   "metadata": {},
   "source": [
    "Let's make a first loop"
   ]
  },
  {
   "cell_type": "code",
   "execution_count": 53,
   "id": "a9f372f7-f60e-45fb-b8fc-69c297901701",
   "metadata": {},
   "outputs": [
    {
     "data": {
      "text/html": [
       "<div>\n",
       "<style scoped>\n",
       "    .dataframe tbody tr th:only-of-type {\n",
       "        vertical-align: middle;\n",
       "    }\n",
       "\n",
       "    .dataframe tbody tr th {\n",
       "        vertical-align: top;\n",
       "    }\n",
       "\n",
       "    .dataframe thead th {\n",
       "        text-align: right;\n",
       "    }\n",
       "</style>\n",
       "<table border=\"1\" class=\"dataframe\">\n",
       "  <thead>\n",
       "    <tr style=\"text-align: right;\">\n",
       "      <th></th>\n",
       "    </tr>\n",
       "  </thead>\n",
       "  <tbody>\n",
       "  </tbody>\n",
       "</table>\n",
       "</div>"
      ],
      "text/plain": [
       "Empty DataFrame\n",
       "Columns: []\n",
       "Index: []"
      ]
     },
     "execution_count": 53,
     "metadata": {},
     "output_type": "execute_result"
    }
   ],
   "source": [
    "pd.DataFrame(res.json()['data'])"
   ]
  },
  {
   "cell_type": "code",
   "execution_count": 81,
   "id": "c2a9e45d-5d01-4b58-b3eb-abc59dbda65f",
   "metadata": {},
   "outputs": [
    {
     "data": {
      "text/plain": [
       "1670888353"
      ]
     },
     "execution_count": 81,
     "metadata": {},
     "output_type": "execute_result"
    }
   ],
   "source": [
    "time_now = round(time.time())\n",
    "time_now"
   ]
  },
  {
   "cell_type": "code",
   "execution_count": 55,
   "id": "ded7a975-c0e3-4243-85cf-9f4cca0cde17",
   "metadata": {
    "collapsed": true,
    "jupyter": {
     "outputs_hidden": true
    },
    "tags": []
   },
   "outputs": [
    {
     "ename": "KeyError",
     "evalue": "'created_utc'",
     "output_type": "error",
     "traceback": [
      "\u001b[0;31m---------------------------------------------------------------------------\u001b[0m",
      "\u001b[0;31mKeyError\u001b[0m                                  Traceback (most recent call last)",
      "\u001b[0;32m~/opt/anaconda3/lib/python3.9/site-packages/pandas/core/indexes/base.py\u001b[0m in \u001b[0;36mget_loc\u001b[0;34m(self, key, method, tolerance)\u001b[0m\n\u001b[1;32m   3360\u001b[0m             \u001b[0;32mtry\u001b[0m\u001b[0;34m:\u001b[0m\u001b[0;34m\u001b[0m\u001b[0;34m\u001b[0m\u001b[0m\n\u001b[0;32m-> 3361\u001b[0;31m                 \u001b[0;32mreturn\u001b[0m \u001b[0mself\u001b[0m\u001b[0;34m.\u001b[0m\u001b[0m_engine\u001b[0m\u001b[0;34m.\u001b[0m\u001b[0mget_loc\u001b[0m\u001b[0;34m(\u001b[0m\u001b[0mcasted_key\u001b[0m\u001b[0;34m)\u001b[0m\u001b[0;34m\u001b[0m\u001b[0;34m\u001b[0m\u001b[0m\n\u001b[0m\u001b[1;32m   3362\u001b[0m             \u001b[0;32mexcept\u001b[0m \u001b[0mKeyError\u001b[0m \u001b[0;32mas\u001b[0m \u001b[0merr\u001b[0m\u001b[0;34m:\u001b[0m\u001b[0;34m\u001b[0m\u001b[0;34m\u001b[0m\u001b[0m\n",
      "\u001b[0;32m~/opt/anaconda3/lib/python3.9/site-packages/pandas/_libs/index.pyx\u001b[0m in \u001b[0;36mpandas._libs.index.IndexEngine.get_loc\u001b[0;34m()\u001b[0m\n",
      "\u001b[0;32m~/opt/anaconda3/lib/python3.9/site-packages/pandas/_libs/index.pyx\u001b[0m in \u001b[0;36mpandas._libs.index.IndexEngine.get_loc\u001b[0;34m()\u001b[0m\n",
      "\u001b[0;32mpandas/_libs/hashtable_class_helper.pxi\u001b[0m in \u001b[0;36mpandas._libs.hashtable.PyObjectHashTable.get_item\u001b[0;34m()\u001b[0m\n",
      "\u001b[0;32mpandas/_libs/hashtable_class_helper.pxi\u001b[0m in \u001b[0;36mpandas._libs.hashtable.PyObjectHashTable.get_item\u001b[0;34m()\u001b[0m\n",
      "\u001b[0;31mKeyError\u001b[0m: 'created_utc'",
      "\nThe above exception was the direct cause of the following exception:\n",
      "\u001b[0;31mKeyError\u001b[0m                                  Traceback (most recent call last)",
      "\u001b[0;32m/var/folders/jl/p0b83vx55ls1hskdgz1sddkw0000gn/T/ipykernel_23714/1224722588.py\u001b[0m in \u001b[0;36m<module>\u001b[0;34m\u001b[0m\n\u001b[1;32m     16\u001b[0m         \u001b[0mall_posts\u001b[0m\u001b[0;34m.\u001b[0m\u001b[0mappend\u001b[0m\u001b[0;34m(\u001b[0m\u001b[0mposts\u001b[0m\u001b[0;34m)\u001b[0m\u001b[0;34m\u001b[0m\u001b[0;34m\u001b[0m\u001b[0m\n\u001b[1;32m     17\u001b[0m \u001b[0;34m\u001b[0m\u001b[0m\n\u001b[0;32m---> 18\u001b[0;31m         \u001b[0mparams\u001b[0m\u001b[0;34m[\u001b[0m\u001b[0;34m'before'\u001b[0m\u001b[0;34m]\u001b[0m \u001b[0;34m=\u001b[0m \u001b[0mposts\u001b[0m\u001b[0;34m[\u001b[0m\u001b[0;34m'created_utc'\u001b[0m\u001b[0;34m]\u001b[0m\u001b[0;34m.\u001b[0m\u001b[0mmin\u001b[0m\u001b[0;34m(\u001b[0m\u001b[0;34m)\u001b[0m\u001b[0;34m\u001b[0m\u001b[0;34m\u001b[0m\u001b[0m\n\u001b[0m\u001b[1;32m     19\u001b[0m         \u001b[0mtime\u001b[0m\u001b[0;34m.\u001b[0m\u001b[0msleep\u001b[0m\u001b[0;34m(\u001b[0m\u001b[0;36m2\u001b[0m\u001b[0;34m)\u001b[0m\u001b[0;34m\u001b[0m\u001b[0;34m\u001b[0m\u001b[0m\n\u001b[1;32m     20\u001b[0m     \u001b[0;32melse\u001b[0m\u001b[0;34m:\u001b[0m\u001b[0;34m\u001b[0m\u001b[0;34m\u001b[0m\u001b[0m\n",
      "\u001b[0;32m~/opt/anaconda3/lib/python3.9/site-packages/pandas/core/frame.py\u001b[0m in \u001b[0;36m__getitem__\u001b[0;34m(self, key)\u001b[0m\n\u001b[1;32m   3456\u001b[0m             \u001b[0;32mif\u001b[0m \u001b[0mself\u001b[0m\u001b[0;34m.\u001b[0m\u001b[0mcolumns\u001b[0m\u001b[0;34m.\u001b[0m\u001b[0mnlevels\u001b[0m \u001b[0;34m>\u001b[0m \u001b[0;36m1\u001b[0m\u001b[0;34m:\u001b[0m\u001b[0;34m\u001b[0m\u001b[0;34m\u001b[0m\u001b[0m\n\u001b[1;32m   3457\u001b[0m                 \u001b[0;32mreturn\u001b[0m \u001b[0mself\u001b[0m\u001b[0;34m.\u001b[0m\u001b[0m_getitem_multilevel\u001b[0m\u001b[0;34m(\u001b[0m\u001b[0mkey\u001b[0m\u001b[0;34m)\u001b[0m\u001b[0;34m\u001b[0m\u001b[0;34m\u001b[0m\u001b[0m\n\u001b[0;32m-> 3458\u001b[0;31m             \u001b[0mindexer\u001b[0m \u001b[0;34m=\u001b[0m \u001b[0mself\u001b[0m\u001b[0;34m.\u001b[0m\u001b[0mcolumns\u001b[0m\u001b[0;34m.\u001b[0m\u001b[0mget_loc\u001b[0m\u001b[0;34m(\u001b[0m\u001b[0mkey\u001b[0m\u001b[0;34m)\u001b[0m\u001b[0;34m\u001b[0m\u001b[0;34m\u001b[0m\u001b[0m\n\u001b[0m\u001b[1;32m   3459\u001b[0m             \u001b[0;32mif\u001b[0m \u001b[0mis_integer\u001b[0m\u001b[0;34m(\u001b[0m\u001b[0mindexer\u001b[0m\u001b[0;34m)\u001b[0m\u001b[0;34m:\u001b[0m\u001b[0;34m\u001b[0m\u001b[0;34m\u001b[0m\u001b[0m\n\u001b[1;32m   3460\u001b[0m                 \u001b[0mindexer\u001b[0m \u001b[0;34m=\u001b[0m \u001b[0;34m[\u001b[0m\u001b[0mindexer\u001b[0m\u001b[0;34m]\u001b[0m\u001b[0;34m\u001b[0m\u001b[0;34m\u001b[0m\u001b[0m\n",
      "\u001b[0;32m~/opt/anaconda3/lib/python3.9/site-packages/pandas/core/indexes/base.py\u001b[0m in \u001b[0;36mget_loc\u001b[0;34m(self, key, method, tolerance)\u001b[0m\n\u001b[1;32m   3361\u001b[0m                 \u001b[0;32mreturn\u001b[0m \u001b[0mself\u001b[0m\u001b[0;34m.\u001b[0m\u001b[0m_engine\u001b[0m\u001b[0;34m.\u001b[0m\u001b[0mget_loc\u001b[0m\u001b[0;34m(\u001b[0m\u001b[0mcasted_key\u001b[0m\u001b[0;34m)\u001b[0m\u001b[0;34m\u001b[0m\u001b[0;34m\u001b[0m\u001b[0m\n\u001b[1;32m   3362\u001b[0m             \u001b[0;32mexcept\u001b[0m \u001b[0mKeyError\u001b[0m \u001b[0;32mas\u001b[0m \u001b[0merr\u001b[0m\u001b[0;34m:\u001b[0m\u001b[0;34m\u001b[0m\u001b[0;34m\u001b[0m\u001b[0m\n\u001b[0;32m-> 3363\u001b[0;31m                 \u001b[0;32mraise\u001b[0m \u001b[0mKeyError\u001b[0m\u001b[0;34m(\u001b[0m\u001b[0mkey\u001b[0m\u001b[0;34m)\u001b[0m \u001b[0;32mfrom\u001b[0m \u001b[0merr\u001b[0m\u001b[0;34m\u001b[0m\u001b[0;34m\u001b[0m\u001b[0m\n\u001b[0m\u001b[1;32m   3364\u001b[0m \u001b[0;34m\u001b[0m\u001b[0m\n\u001b[1;32m   3365\u001b[0m         \u001b[0;32mif\u001b[0m \u001b[0mis_scalar\u001b[0m\u001b[0;34m(\u001b[0m\u001b[0mkey\u001b[0m\u001b[0;34m)\u001b[0m \u001b[0;32mand\u001b[0m \u001b[0misna\u001b[0m\u001b[0;34m(\u001b[0m\u001b[0mkey\u001b[0m\u001b[0;34m)\u001b[0m \u001b[0;32mand\u001b[0m \u001b[0;32mnot\u001b[0m \u001b[0mself\u001b[0m\u001b[0;34m.\u001b[0m\u001b[0mhasnans\u001b[0m\u001b[0;34m:\u001b[0m\u001b[0;34m\u001b[0m\u001b[0;34m\u001b[0m\u001b[0m\n",
      "\u001b[0;31mKeyError\u001b[0m: 'created_utc'"
     ]
    }
   ],
   "source": [
    "base_url = 'https://api.pushshift.io/reddit/search/submission?subreddit=technology&size=1000'\n",
    "\n",
    "# params = {\n",
    "#     'subreddit': 'science',\n",
    "#     'size': 1000,\n",
    "#     'before': round(time_now)\n",
    "# }\n",
    "all_posts = []\n",
    "\n",
    "for _ in range(2):\n",
    "\n",
    "    res = requests.get(base_url, params)\n",
    "\n",
    "    if res.status_code == 200:\n",
    "        posts = pd.DataFrame(res.json()['data'])\n",
    "        all_posts.append(posts)\n",
    "        \n",
    "        params['before'] = posts['created_utc'].min()\n",
    "        time.sleep(2)\n",
    "    else: \n",
    "        print(f'status:{res.status_code}')\n",
    "    res.status_code\n",
    "all_posts = pd.concat(all_posts)"
   ]
  },
  {
   "cell_type": "code",
   "execution_count": 97,
   "id": "4505a2e9-2e33-47ea-9e74-13863b87e0d3",
   "metadata": {},
   "outputs": [],
   "source": [
    "base_url = 'https://api.pushshift.io/reddit/search/submission?subreddit=technology&size=1000'\n",
    "time_mark = 0\n",
    "# params = {\n",
    "#     'subreddit': 'science',\n",
    "#     'size': 1000,\n",
    "#     'before': round(time_now)\n",
    "# }\n",
    "all_posts = []\n",
    "\n",
    "for _ in range(3):\n",
    "\n",
    "    res = requests.get(f'{base_url}&after={round(time_mark)}')\n",
    "\n",
    "    if res.status_code == 200:\n",
    "        posts = pd.DataFrame(res.json()['data'])\n",
    "        all_posts.append(posts)\n",
    "        \n",
    "        time_mark = posts['created_utc'].max()\n",
    "        # time.sleep(2)\n",
    "    else: \n",
    "        print(f'status:{res.status_code}')\n",
    "    res.status_code\n",
    "all_posts = pd.concat(all_posts)"
   ]
  },
  {
   "cell_type": "code",
   "execution_count": 99,
   "id": "88e8c97f-500b-4469-9ca9-1d8cd72dcdf6",
   "metadata": {},
   "outputs": [
    {
     "data": {
      "text/plain": [
       "1000"
      ]
     },
     "execution_count": 99,
     "metadata": {},
     "output_type": "execute_result"
    }
   ],
   "source": [
    "all_posts['id'].nunique()"
   ]
  },
  {
   "cell_type": "code",
   "execution_count": null,
   "id": "57b19bd4-e766-4d19-84e5-a7019efdf2b1",
   "metadata": {},
   "outputs": [],
   "source": [
    "all_posts[]"
   ]
  },
  {
   "cell_type": "code",
   "execution_count": null,
   "id": "c12039a2-3fc4-4512-b7c4-61806f529c86",
   "metadata": {},
   "outputs": [],
   "source": [
    "base_url = 'https://api.pushshift.io/reddit/search/submission?subreddit=technology&size=1000'\n",
    "\n",
    "# params = {\n",
    "#     'subreddit': 'science',\n",
    "#     'size': 1000,\n",
    "#     'before': round(time_now)\n",
    "# }\n",
    "all_posts = []\n",
    "\n",
    "for _ in range(3):\n",
    "\n",
    "    res = requests.get(f'{base_url}&{time_now}')\n",
    "\n",
    "    if res.status_code == 200:\n",
    "        posts = pd.DataFrame(res.json()['data'])\n",
    "        all_posts.append(posts)\n",
    "        \n",
    "        params['before'] = posts['created_utc'].min()\n",
    "        time.sleep(2)\n",
    "    else: \n",
    "        print(f'status:{res.status_code}')\n",
    "    res.status_code\n",
    "all_posts = pd.concat(all_posts)"
   ]
  }
 ],
 "metadata": {
  "kernelspec": {
   "display_name": "Python 3 (ipykernel)",
   "language": "python",
   "name": "python3"
  },
  "language_info": {
   "codemirror_mode": {
    "name": "ipython",
    "version": 3
   },
   "file_extension": ".py",
   "mimetype": "text/x-python",
   "name": "python",
   "nbconvert_exporter": "python",
   "pygments_lexer": "ipython3",
   "version": "3.9.7"
  }
 },
 "nbformat": 4,
 "nbformat_minor": 5
}
